{
 "cells": [
  {
   "cell_type": "code",
   "execution_count": 2,
   "metadata": {},
   "outputs": [],
   "source": [
    "import numpy as np\n",
    "import pandas as pd\n",
    "from sklearn.model_selection import train_test_split\n",
    "import matplotlib.pyplot as plt\n",
    "import seaborn as sns\n",
    "import warnings\n",
    "warnings.filterwarnings('ignore')"
   ]
  },
  {
   "cell_type": "code",
   "execution_count": 3,
   "metadata": {},
   "outputs": [
    {
     "data": {
      "text/html": [
       "<div>\n",
       "<style scoped>\n",
       "    .dataframe tbody tr th:only-of-type {\n",
       "        vertical-align: middle;\n",
       "    }\n",
       "\n",
       "    .dataframe tbody tr th {\n",
       "        vertical-align: top;\n",
       "    }\n",
       "\n",
       "    .dataframe thead th {\n",
       "        text-align: right;\n",
       "    }\n",
       "</style>\n",
       "<table border=\"1\" class=\"dataframe\">\n",
       "  <thead>\n",
       "    <tr style=\"text-align: right;\">\n",
       "      <th></th>\n",
       "      <th>Date</th>\n",
       "      <th>Country</th>\n",
       "      <th>Confirmed</th>\n",
       "      <th>Recovered</th>\n",
       "      <th>Deaths</th>\n",
       "    </tr>\n",
       "  </thead>\n",
       "  <tbody>\n",
       "    <tr>\n",
       "      <th>0</th>\n",
       "      <td>2020-01-22</td>\n",
       "      <td>Afghanistan</td>\n",
       "      <td>0</td>\n",
       "      <td>0</td>\n",
       "      <td>0</td>\n",
       "    </tr>\n",
       "    <tr>\n",
       "      <th>1</th>\n",
       "      <td>2020-01-22</td>\n",
       "      <td>Albania</td>\n",
       "      <td>0</td>\n",
       "      <td>0</td>\n",
       "      <td>0</td>\n",
       "    </tr>\n",
       "    <tr>\n",
       "      <th>2</th>\n",
       "      <td>2020-01-22</td>\n",
       "      <td>Algeria</td>\n",
       "      <td>0</td>\n",
       "      <td>0</td>\n",
       "      <td>0</td>\n",
       "    </tr>\n",
       "    <tr>\n",
       "      <th>3</th>\n",
       "      <td>2020-01-22</td>\n",
       "      <td>Andorra</td>\n",
       "      <td>0</td>\n",
       "      <td>0</td>\n",
       "      <td>0</td>\n",
       "    </tr>\n",
       "    <tr>\n",
       "      <th>4</th>\n",
       "      <td>2020-01-22</td>\n",
       "      <td>Angola</td>\n",
       "      <td>0</td>\n",
       "      <td>0</td>\n",
       "      <td>0</td>\n",
       "    </tr>\n",
       "    <tr>\n",
       "      <th>...</th>\n",
       "      <td>...</td>\n",
       "      <td>...</td>\n",
       "      <td>...</td>\n",
       "      <td>...</td>\n",
       "      <td>...</td>\n",
       "    </tr>\n",
       "    <tr>\n",
       "      <th>23683</th>\n",
       "      <td>2020-05-26</td>\n",
       "      <td>West Bank and Gaza</td>\n",
       "      <td>429</td>\n",
       "      <td>365</td>\n",
       "      <td>3</td>\n",
       "    </tr>\n",
       "    <tr>\n",
       "      <th>23684</th>\n",
       "      <td>2020-05-26</td>\n",
       "      <td>Western Sahara</td>\n",
       "      <td>9</td>\n",
       "      <td>6</td>\n",
       "      <td>1</td>\n",
       "    </tr>\n",
       "    <tr>\n",
       "      <th>23685</th>\n",
       "      <td>2020-05-26</td>\n",
       "      <td>Yemen</td>\n",
       "      <td>249</td>\n",
       "      <td>10</td>\n",
       "      <td>49</td>\n",
       "    </tr>\n",
       "    <tr>\n",
       "      <th>23686</th>\n",
       "      <td>2020-05-26</td>\n",
       "      <td>Zambia</td>\n",
       "      <td>920</td>\n",
       "      <td>336</td>\n",
       "      <td>7</td>\n",
       "    </tr>\n",
       "    <tr>\n",
       "      <th>23687</th>\n",
       "      <td>2020-05-26</td>\n",
       "      <td>Zimbabwe</td>\n",
       "      <td>56</td>\n",
       "      <td>25</td>\n",
       "      <td>4</td>\n",
       "    </tr>\n",
       "  </tbody>\n",
       "</table>\n",
       "<p>23688 rows × 5 columns</p>\n",
       "</div>"
      ],
      "text/plain": [
       "            Date             Country  Confirmed  Recovered  Deaths\n",
       "0     2020-01-22         Afghanistan          0          0       0\n",
       "1     2020-01-22             Albania          0          0       0\n",
       "2     2020-01-22             Algeria          0          0       0\n",
       "3     2020-01-22             Andorra          0          0       0\n",
       "4     2020-01-22              Angola          0          0       0\n",
       "...          ...                 ...        ...        ...     ...\n",
       "23683 2020-05-26  West Bank and Gaza        429        365       3\n",
       "23684 2020-05-26      Western Sahara          9          6       1\n",
       "23685 2020-05-26               Yemen        249         10      49\n",
       "23686 2020-05-26              Zambia        920        336       7\n",
       "23687 2020-05-26            Zimbabwe         56         25       4\n",
       "\n",
       "[23688 rows x 5 columns]"
      ]
     },
     "execution_count": 3,
     "metadata": {},
     "output_type": "execute_result"
    }
   ],
   "source": [
    "df=pd.read_csv('coronavirus.csv',parse_dates=['Date'])\n",
    "df"
   ]
  },
  {
   "cell_type": "code",
   "execution_count": 4,
   "metadata": {},
   "outputs": [
    {
     "data": {
      "text/plain": [
       "(23688, 5)"
      ]
     },
     "execution_count": 4,
     "metadata": {},
     "output_type": "execute_result"
    }
   ],
   "source": [
    "df.shape"
   ]
  },
  {
   "cell_type": "code",
   "execution_count": 5,
   "metadata": {},
   "outputs": [
    {
     "data": {
      "text/plain": [
       "Date         datetime64[ns]\n",
       "Country              object\n",
       "Confirmed             int64\n",
       "Recovered             int64\n",
       "Deaths                int64\n",
       "dtype: object"
      ]
     },
     "execution_count": 5,
     "metadata": {},
     "output_type": "execute_result"
    }
   ],
   "source": [
    "df.dtypes"
   ]
  },
  {
   "cell_type": "code",
   "execution_count": 6,
   "metadata": {},
   "outputs": [
    {
     "data": {
      "text/plain": [
       "Index(['Date', 'Country', 'Confirmed', 'Recovered', 'Deaths'], dtype='object')"
      ]
     },
     "execution_count": 6,
     "metadata": {},
     "output_type": "execute_result"
    }
   ],
   "source": [
    "df.columns"
   ]
  },
  {
   "cell_type": "code",
   "execution_count": 7,
   "metadata": {},
   "outputs": [
    {
     "data": {
      "text/plain": [
       "Date          126\n",
       "Country       188\n",
       "Confirmed    5308\n",
       "Recovered    3303\n",
       "Deaths       1768\n",
       "dtype: int64"
      ]
     },
     "execution_count": 7,
     "metadata": {},
     "output_type": "execute_result"
    }
   ],
   "source": [
    "df.nunique()"
   ]
  },
  {
   "cell_type": "code",
   "execution_count": 8,
   "metadata": {},
   "outputs": [
    {
     "data": {
      "text/plain": [
       "Date         0\n",
       "Country      0\n",
       "Confirmed    0\n",
       "Recovered    0\n",
       "Deaths       0\n",
       "dtype: int64"
      ]
     },
     "execution_count": 8,
     "metadata": {},
     "output_type": "execute_result"
    }
   ],
   "source": [
    "count=df.isnull().sum()\n",
    "count"
   ]
  },
  {
   "cell_type": "code",
   "execution_count": 9,
   "metadata": {},
   "outputs": [
    {
     "data": {
      "text/plain": [
       "<matplotlib.axes._subplots.AxesSubplot at 0x241ca3bac88>"
      ]
     },
     "execution_count": 9,
     "metadata": {},
     "output_type": "execute_result"
    },
    {
     "data": {
      "image/png": "[encoded data removed]",
      "text/plain": [
       "<Figure size 432x288 with 2 Axes>"
      ]
     },
     "metadata": {
      "needs_background": "light"
     },
     "output_type": "display_data"
    }
   ],
   "source": [
    "sns.heatmap(df.isnull())"
   ]
  },
  {
   "cell_type": "code",
   "execution_count": 10,
   "metadata": {},
   "outputs": [
    {
     "data": {
      "text/html": [
       "<div>\n",
       "<style scoped>\n",
       "    .dataframe tbody tr th:only-of-type {\n",
       "        vertical-align: middle;\n",
       "    }\n",
       "\n",
       "    .dataframe tbody tr th {\n",
       "        vertical-align: top;\n",
       "    }\n",
       "\n",
       "    .dataframe thead th {\n",
       "        text-align: right;\n",
       "    }\n",
       "</style>\n",
       "<table border=\"1\" class=\"dataframe\">\n",
       "  <thead>\n",
       "    <tr style=\"text-align: right;\">\n",
       "      <th></th>\n",
       "      <th>Confirmed</th>\n",
       "      <th>Recovered</th>\n",
       "      <th>Deaths</th>\n",
       "    </tr>\n",
       "  </thead>\n",
       "  <tbody>\n",
       "    <tr>\n",
       "      <th>count</th>\n",
       "      <td>2.368800e+04</td>\n",
       "      <td>23688.000000</td>\n",
       "      <td>23688.000000</td>\n",
       "    </tr>\n",
       "    <tr>\n",
       "      <th>mean</th>\n",
       "      <td>7.969368e+03</td>\n",
       "      <td>2581.801714</td>\n",
       "      <td>526.935030</td>\n",
       "    </tr>\n",
       "    <tr>\n",
       "      <th>std</th>\n",
       "      <td>5.842109e+04</td>\n",
       "      <td>15143.101257</td>\n",
       "      <td>3992.815956</td>\n",
       "    </tr>\n",
       "    <tr>\n",
       "      <th>min</th>\n",
       "      <td>0.000000e+00</td>\n",
       "      <td>0.000000</td>\n",
       "      <td>0.000000</td>\n",
       "    </tr>\n",
       "    <tr>\n",
       "      <th>25%</th>\n",
       "      <td>0.000000e+00</td>\n",
       "      <td>0.000000</td>\n",
       "      <td>0.000000</td>\n",
       "    </tr>\n",
       "    <tr>\n",
       "      <th>50%</th>\n",
       "      <td>1.800000e+01</td>\n",
       "      <td>1.000000</td>\n",
       "      <td>0.000000</td>\n",
       "    </tr>\n",
       "    <tr>\n",
       "      <th>75%</th>\n",
       "      <td>7.300000e+02</td>\n",
       "      <td>123.000000</td>\n",
       "      <td>13.000000</td>\n",
       "    </tr>\n",
       "    <tr>\n",
       "      <th>max</th>\n",
       "      <td>1.680913e+06</td>\n",
       "      <td>384902.000000</td>\n",
       "      <td>98913.000000</td>\n",
       "    </tr>\n",
       "  </tbody>\n",
       "</table>\n",
       "</div>"
      ],
      "text/plain": [
       "          Confirmed      Recovered        Deaths\n",
       "count  2.368800e+04   23688.000000  23688.000000\n",
       "mean   7.969368e+03    2581.801714    526.935030\n",
       "std    5.842109e+04   15143.101257   3992.815956\n",
       "min    0.000000e+00       0.000000      0.000000\n",
       "25%    0.000000e+00       0.000000      0.000000\n",
       "50%    1.800000e+01       1.000000      0.000000\n",
       "75%    7.300000e+02     123.000000     13.000000\n",
       "max    1.680913e+06  384902.000000  98913.000000"
      ]
     },
     "execution_count": 10,
     "metadata": {},
     "output_type": "execute_result"
    }
   ],
   "source": [
    "df.describe()"
   ]
  },
  {
   "cell_type": "code",
   "execution_count": 11,
   "metadata": {},
   "outputs": [
    {
     "data": {
      "text/html": [
       "<div>\n",
       "<style scoped>\n",
       "    .dataframe tbody tr th:only-of-type {\n",
       "        vertical-align: middle;\n",
       "    }\n",
       "\n",
       "    .dataframe tbody tr th {\n",
       "        vertical-align: top;\n",
       "    }\n",
       "\n",
       "    .dataframe thead th {\n",
       "        text-align: right;\n",
       "    }\n",
       "</style>\n",
       "<table border=\"1\" class=\"dataframe\">\n",
       "  <thead>\n",
       "    <tr style=\"text-align: right;\">\n",
       "      <th></th>\n",
       "      <th>month</th>\n",
       "      <th>year</th>\n",
       "      <th>day</th>\n",
       "      <th>Country</th>\n",
       "      <th>Confirmed</th>\n",
       "      <th>Recovered</th>\n",
       "      <th>Deaths</th>\n",
       "    </tr>\n",
       "  </thead>\n",
       "  <tbody>\n",
       "    <tr>\n",
       "      <th>0</th>\n",
       "      <td>January</td>\n",
       "      <td>2020</td>\n",
       "      <td>Wednesday</td>\n",
       "      <td>Afghanistan</td>\n",
       "      <td>0</td>\n",
       "      <td>0</td>\n",
       "      <td>0</td>\n",
       "    </tr>\n",
       "    <tr>\n",
       "      <th>1</th>\n",
       "      <td>January</td>\n",
       "      <td>2020</td>\n",
       "      <td>Wednesday</td>\n",
       "      <td>Albania</td>\n",
       "      <td>0</td>\n",
       "      <td>0</td>\n",
       "      <td>0</td>\n",
       "    </tr>\n",
       "    <tr>\n",
       "      <th>2</th>\n",
       "      <td>January</td>\n",
       "      <td>2020</td>\n",
       "      <td>Wednesday</td>\n",
       "      <td>Algeria</td>\n",
       "      <td>0</td>\n",
       "      <td>0</td>\n",
       "      <td>0</td>\n",
       "    </tr>\n",
       "    <tr>\n",
       "      <th>3</th>\n",
       "      <td>January</td>\n",
       "      <td>2020</td>\n",
       "      <td>Wednesday</td>\n",
       "      <td>Andorra</td>\n",
       "      <td>0</td>\n",
       "      <td>0</td>\n",
       "      <td>0</td>\n",
       "    </tr>\n",
       "    <tr>\n",
       "      <th>4</th>\n",
       "      <td>January</td>\n",
       "      <td>2020</td>\n",
       "      <td>Wednesday</td>\n",
       "      <td>Angola</td>\n",
       "      <td>0</td>\n",
       "      <td>0</td>\n",
       "      <td>0</td>\n",
       "    </tr>\n",
       "    <tr>\n",
       "      <th>...</th>\n",
       "      <td>...</td>\n",
       "      <td>...</td>\n",
       "      <td>...</td>\n",
       "      <td>...</td>\n",
       "      <td>...</td>\n",
       "      <td>...</td>\n",
       "      <td>...</td>\n",
       "    </tr>\n",
       "    <tr>\n",
       "      <th>23683</th>\n",
       "      <td>May</td>\n",
       "      <td>2020</td>\n",
       "      <td>Tuesday</td>\n",
       "      <td>West Bank and Gaza</td>\n",
       "      <td>429</td>\n",
       "      <td>365</td>\n",
       "      <td>3</td>\n",
       "    </tr>\n",
       "    <tr>\n",
       "      <th>23684</th>\n",
       "      <td>May</td>\n",
       "      <td>2020</td>\n",
       "      <td>Tuesday</td>\n",
       "      <td>Western Sahara</td>\n",
       "      <td>9</td>\n",
       "      <td>6</td>\n",
       "      <td>1</td>\n",
       "    </tr>\n",
       "    <tr>\n",
       "      <th>23685</th>\n",
       "      <td>May</td>\n",
       "      <td>2020</td>\n",
       "      <td>Tuesday</td>\n",
       "      <td>Yemen</td>\n",
       "      <td>249</td>\n",
       "      <td>10</td>\n",
       "      <td>49</td>\n",
       "    </tr>\n",
       "    <tr>\n",
       "      <th>23686</th>\n",
       "      <td>May</td>\n",
       "      <td>2020</td>\n",
       "      <td>Tuesday</td>\n",
       "      <td>Zambia</td>\n",
       "      <td>920</td>\n",
       "      <td>336</td>\n",
       "      <td>7</td>\n",
       "    </tr>\n",
       "    <tr>\n",
       "      <th>23687</th>\n",
       "      <td>May</td>\n",
       "      <td>2020</td>\n",
       "      <td>Tuesday</td>\n",
       "      <td>Zimbabwe</td>\n",
       "      <td>56</td>\n",
       "      <td>25</td>\n",
       "      <td>4</td>\n",
       "    </tr>\n",
       "  </tbody>\n",
       "</table>\n",
       "<p>23688 rows × 7 columns</p>\n",
       "</div>"
      ],
      "text/plain": [
       "         month  year        day             Country  Confirmed  Recovered  \\\n",
       "0      January  2020  Wednesday         Afghanistan          0          0   \n",
       "1      January  2020  Wednesday             Albania          0          0   \n",
       "2      January  2020  Wednesday             Algeria          0          0   \n",
       "3      January  2020  Wednesday             Andorra          0          0   \n",
       "4      January  2020  Wednesday              Angola          0          0   \n",
       "...        ...   ...        ...                 ...        ...        ...   \n",
       "23683      May  2020    Tuesday  West Bank and Gaza        429        365   \n",
       "23684      May  2020    Tuesday      Western Sahara          9          6   \n",
       "23685      May  2020    Tuesday               Yemen        249         10   \n",
       "23686      May  2020    Tuesday              Zambia        920        336   \n",
       "23687      May  2020    Tuesday            Zimbabwe         56         25   \n",
       "\n",
       "       Deaths  \n",
       "0           0  \n",
       "1           0  \n",
       "2           0  \n",
       "3           0  \n",
       "4           0  \n",
       "...       ...  \n",
       "23683       3  \n",
       "23684       1  \n",
       "23685      49  \n",
       "23686       7  \n",
       "23687       4  \n",
       "\n",
       "[23688 rows x 7 columns]"
      ]
     },
     "execution_count": 11,
     "metadata": {},
     "output_type": "execute_result"
    }
   ],
   "source": [
    "dfnew=pd.DataFrame()\n",
    "dfnew['month']=df['Date'].dt.month_name()\n",
    "dfnew['year']=df['Date'].dt.year\n",
    "dfnew['day']=df['Date'].dt.day_name()\n",
    "dfnew['Country']=df['Country']\n",
    "dfnew['Confirmed']=df['Confirmed']\n",
    "dfnew['Recovered']=df['Recovered']\n",
    "dfnew['Deaths']=df['Deaths']\n",
    "dfnew"
   ]
  },
  {
   "cell_type": "code",
   "execution_count": 12,
   "metadata": {},
   "outputs": [],
   "source": [
    "#dfnew = dfnew.drop(dfnew[dfnew['Confirmed']==0].index)\n",
    "#dfnew"
   ]
  },
  {
   "cell_type": "code",
   "execution_count": 13,
   "metadata": {},
   "outputs": [
    {
     "data": {
      "image/png": "[encoded data removed]",
      "text/plain": [
       "<Figure size 432x288 with 1 Axes>"
      ]
     },
     "metadata": {
      "needs_background": "light"
     },
     "output_type": "display_data"
    }
   ],
   "source": [
    "sns.barplot(x='month',y='Confirmed',data=dfnew)\n",
    "plt.show()"
   ]
  },
  {
   "cell_type": "code",
   "execution_count": 14,
   "metadata": {},
   "outputs": [
    {
     "data": {
      "image/png": "[encoded data removed]",
      "text/plain": [
       "<Figure size 432x288 with 1 Axes>"
      ]
     },
     "metadata": {
      "needs_background": "light"
     },
     "output_type": "display_data"
    }
   ],
   "source": [
    "sns.barplot(x='day',y='Confirmed',data=dfnew)\n",
    "plt.show()"
   ]
  },
  {
   "cell_type": "code",
   "execution_count": 15,
   "metadata": {},
   "outputs": [
    {
     "data": {
      "image/png": "[encoded data removed]",
      "text/plain": [
       "<Figure size 432x288 with 1 Axes>"
      ]
     },
     "metadata": {
      "needs_background": "light"
     },
     "output_type": "display_data"
    }
   ],
   "source": [
    "sns.lineplot(x='Country',y='Confirmed',data=dfnew)\n",
    "plt.show()"
   ]
  },
  {
   "cell_type": "code",
   "execution_count": 16,
   "metadata": {},
   "outputs": [
    {
     "data": {
      "text/plain": [
       "188"
      ]
     },
     "execution_count": 16,
     "metadata": {},
     "output_type": "execute_result"
    }
   ],
   "source": [
    "dfnew['Country'].nunique()"
   ]
  },
  {
   "cell_type": "code",
   "execution_count": 17,
   "metadata": {},
   "outputs": [
    {
     "data": {
      "text/html": [
       "<div>\n",
       "<style scoped>\n",
       "    .dataframe tbody tr th:only-of-type {\n",
       "        vertical-align: middle;\n",
       "    }\n",
       "\n",
       "    .dataframe tbody tr th {\n",
       "        vertical-align: top;\n",
       "    }\n",
       "\n",
       "    .dataframe thead th {\n",
       "        text-align: right;\n",
       "    }\n",
       "</style>\n",
       "<table border=\"1\" class=\"dataframe\">\n",
       "  <thead>\n",
       "    <tr style=\"text-align: right;\">\n",
       "      <th></th>\n",
       "      <th>month</th>\n",
       "      <th>Country</th>\n",
       "      <th>Confirmed</th>\n",
       "      <th>Recovered</th>\n",
       "      <th>Deaths</th>\n",
       "    </tr>\n",
       "  </thead>\n",
       "  <tbody>\n",
       "    <tr>\n",
       "      <th>0</th>\n",
       "      <td>January</td>\n",
       "      <td>Afghanistan</td>\n",
       "      <td>0</td>\n",
       "      <td>0</td>\n",
       "      <td>0</td>\n",
       "    </tr>\n",
       "    <tr>\n",
       "      <th>1</th>\n",
       "      <td>January</td>\n",
       "      <td>Albania</td>\n",
       "      <td>0</td>\n",
       "      <td>0</td>\n",
       "      <td>0</td>\n",
       "    </tr>\n",
       "    <tr>\n",
       "      <th>2</th>\n",
       "      <td>January</td>\n",
       "      <td>Algeria</td>\n",
       "      <td>0</td>\n",
       "      <td>0</td>\n",
       "      <td>0</td>\n",
       "    </tr>\n",
       "    <tr>\n",
       "      <th>3</th>\n",
       "      <td>January</td>\n",
       "      <td>Andorra</td>\n",
       "      <td>0</td>\n",
       "      <td>0</td>\n",
       "      <td>0</td>\n",
       "    </tr>\n",
       "    <tr>\n",
       "      <th>4</th>\n",
       "      <td>January</td>\n",
       "      <td>Angola</td>\n",
       "      <td>0</td>\n",
       "      <td>0</td>\n",
       "      <td>0</td>\n",
       "    </tr>\n",
       "    <tr>\n",
       "      <th>...</th>\n",
       "      <td>...</td>\n",
       "      <td>...</td>\n",
       "      <td>...</td>\n",
       "      <td>...</td>\n",
       "      <td>...</td>\n",
       "    </tr>\n",
       "    <tr>\n",
       "      <th>23683</th>\n",
       "      <td>May</td>\n",
       "      <td>West Bank and Gaza</td>\n",
       "      <td>429</td>\n",
       "      <td>365</td>\n",
       "      <td>3</td>\n",
       "    </tr>\n",
       "    <tr>\n",
       "      <th>23684</th>\n",
       "      <td>May</td>\n",
       "      <td>Western Sahara</td>\n",
       "      <td>9</td>\n",
       "      <td>6</td>\n",
       "      <td>1</td>\n",
       "    </tr>\n",
       "    <tr>\n",
       "      <th>23685</th>\n",
       "      <td>May</td>\n",
       "      <td>Yemen</td>\n",
       "      <td>249</td>\n",
       "      <td>10</td>\n",
       "      <td>49</td>\n",
       "    </tr>\n",
       "    <tr>\n",
       "      <th>23686</th>\n",
       "      <td>May</td>\n",
       "      <td>Zambia</td>\n",
       "      <td>920</td>\n",
       "      <td>336</td>\n",
       "      <td>7</td>\n",
       "    </tr>\n",
       "    <tr>\n",
       "      <th>23687</th>\n",
       "      <td>May</td>\n",
       "      <td>Zimbabwe</td>\n",
       "      <td>56</td>\n",
       "      <td>25</td>\n",
       "      <td>4</td>\n",
       "    </tr>\n",
       "  </tbody>\n",
       "</table>\n",
       "<p>23688 rows × 5 columns</p>\n",
       "</div>"
      ],
      "text/plain": [
       "         month             Country  Confirmed  Recovered  Deaths\n",
       "0      January         Afghanistan          0          0       0\n",
       "1      January             Albania          0          0       0\n",
       "2      January             Algeria          0          0       0\n",
       "3      January             Andorra          0          0       0\n",
       "4      January              Angola          0          0       0\n",
       "...        ...                 ...        ...        ...     ...\n",
       "23683      May  West Bank and Gaza        429        365       3\n",
       "23684      May      Western Sahara          9          6       1\n",
       "23685      May               Yemen        249         10      49\n",
       "23686      May              Zambia        920        336       7\n",
       "23687      May            Zimbabwe         56         25       4\n",
       "\n",
       "[23688 rows x 5 columns]"
      ]
     },
     "execution_count": 17,
     "metadata": {},
     "output_type": "execute_result"
    }
   ],
   "source": [
    "dfnew = dfnew.drop(columns=['year','day'])\n",
    "dfnew"
   ]
  },
  {
   "cell_type": "code",
   "execution_count": 18,
   "metadata": {},
   "outputs": [
    {
     "data": {
      "text/html": [
       "<div>\n",
       "<style scoped>\n",
       "    .dataframe tbody tr th:only-of-type {\n",
       "        vertical-align: middle;\n",
       "    }\n",
       "\n",
       "    .dataframe tbody tr th {\n",
       "        vertical-align: top;\n",
       "    }\n",
       "\n",
       "    .dataframe thead th {\n",
       "        text-align: right;\n",
       "    }\n",
       "</style>\n",
       "<table border=\"1\" class=\"dataframe\">\n",
       "  <thead>\n",
       "    <tr style=\"text-align: right;\">\n",
       "      <th></th>\n",
       "      <th>Confirmed</th>\n",
       "      <th>Recovered</th>\n",
       "      <th>Deaths</th>\n",
       "    </tr>\n",
       "    <tr>\n",
       "      <th>Country</th>\n",
       "      <th></th>\n",
       "      <th></th>\n",
       "      <th></th>\n",
       "    </tr>\n",
       "  </thead>\n",
       "  <tbody>\n",
       "    <tr>\n",
       "      <th>Afghanistan</th>\n",
       "      <td>185236</td>\n",
       "      <td>20845</td>\n",
       "      <td>4669</td>\n",
       "    </tr>\n",
       "    <tr>\n",
       "      <th>Albania</th>\n",
       "      <td>41253</td>\n",
       "      <td>25688</td>\n",
       "      <td>1629</td>\n",
       "    </tr>\n",
       "    <tr>\n",
       "      <th>Algeria</th>\n",
       "      <td>240070</td>\n",
       "      <td>107345</td>\n",
       "      <td>23232</td>\n",
       "    </tr>\n",
       "    <tr>\n",
       "      <th>Andorra</th>\n",
       "      <td>41573</td>\n",
       "      <td>20751</td>\n",
       "      <td>2219</td>\n",
       "    </tr>\n",
       "    <tr>\n",
       "      <th>Angola</th>\n",
       "      <td>1892</td>\n",
       "      <td>506</td>\n",
       "      <td>131</td>\n",
       "    </tr>\n",
       "    <tr>\n",
       "      <th>...</th>\n",
       "      <td>...</td>\n",
       "      <td>...</td>\n",
       "      <td>...</td>\n",
       "    </tr>\n",
       "    <tr>\n",
       "      <th>West Bank and Gaza</th>\n",
       "      <td>19971</td>\n",
       "      <td>8798</td>\n",
       "      <td>113</td>\n",
       "    </tr>\n",
       "    <tr>\n",
       "      <th>Western Sahara</th>\n",
       "      <td>307</td>\n",
       "      <td>186</td>\n",
       "      <td>1</td>\n",
       "    </tr>\n",
       "    <tr>\n",
       "      <th>Yemen</th>\n",
       "      <td>2696</td>\n",
       "      <td>92</td>\n",
       "      <td>460</td>\n",
       "    </tr>\n",
       "    <tr>\n",
       "      <th>Zambia</th>\n",
       "      <td>15285</td>\n",
       "      <td>5281</td>\n",
       "      <td>215</td>\n",
       "    </tr>\n",
       "    <tr>\n",
       "      <th>Zimbabwe</th>\n",
       "      <td>1760</td>\n",
       "      <td>373</td>\n",
       "      <td>199</td>\n",
       "    </tr>\n",
       "  </tbody>\n",
       "</table>\n",
       "<p>188 rows × 3 columns</p>\n",
       "</div>"
      ],
      "text/plain": [
       "                    Confirmed  Recovered  Deaths\n",
       "Country                                         \n",
       "Afghanistan            185236      20845    4669\n",
       "Albania                 41253      25688    1629\n",
       "Algeria                240070     107345   23232\n",
       "Andorra                 41573      20751    2219\n",
       "Angola                   1892        506     131\n",
       "...                       ...        ...     ...\n",
       "West Bank and Gaza      19971       8798     113\n",
       "Western Sahara            307        186       1\n",
       "Yemen                    2696         92     460\n",
       "Zambia                  15285       5281     215\n",
       "Zimbabwe                 1760        373     199\n",
       "\n",
       "[188 rows x 3 columns]"
      ]
     },
     "execution_count": 18,
     "metadata": {},
     "output_type": "execute_result"
    }
   ],
   "source": [
    "dfg=df.groupby(['Country'])[[\"Confirmed\", \"Recovered\", \"Deaths\"]].sum()\n",
    "dfg   "
   ]
  },
  {
   "cell_type": "code",
   "execution_count": 19,
   "metadata": {},
   "outputs": [
    {
     "data": {
      "text/html": [
       "<div>\n",
       "<style scoped>\n",
       "    .dataframe tbody tr th:only-of-type {\n",
       "        vertical-align: middle;\n",
       "    }\n",
       "\n",
       "    .dataframe tbody tr th {\n",
       "        vertical-align: top;\n",
       "    }\n",
       "\n",
       "    .dataframe thead th {\n",
       "        text-align: right;\n",
       "    }\n",
       "</style>\n",
       "<table border=\"1\" class=\"dataframe\">\n",
       "  <thead>\n",
       "    <tr style=\"text-align: right;\">\n",
       "      <th></th>\n",
       "      <th>Country</th>\n",
       "      <th>Confirmed</th>\n",
       "      <th>Recovered</th>\n",
       "      <th>Deaths</th>\n",
       "    </tr>\n",
       "  </thead>\n",
       "  <tbody>\n",
       "    <tr>\n",
       "      <th>0</th>\n",
       "      <td>Afghanistan</td>\n",
       "      <td>185236</td>\n",
       "      <td>20845</td>\n",
       "      <td>4669</td>\n",
       "    </tr>\n",
       "    <tr>\n",
       "      <th>1</th>\n",
       "      <td>Albania</td>\n",
       "      <td>41253</td>\n",
       "      <td>25688</td>\n",
       "      <td>1629</td>\n",
       "    </tr>\n",
       "    <tr>\n",
       "      <th>2</th>\n",
       "      <td>Algeria</td>\n",
       "      <td>240070</td>\n",
       "      <td>107345</td>\n",
       "      <td>23232</td>\n",
       "    </tr>\n",
       "    <tr>\n",
       "      <th>3</th>\n",
       "      <td>Andorra</td>\n",
       "      <td>41573</td>\n",
       "      <td>20751</td>\n",
       "      <td>2219</td>\n",
       "    </tr>\n",
       "    <tr>\n",
       "      <th>4</th>\n",
       "      <td>Angola</td>\n",
       "      <td>1892</td>\n",
       "      <td>506</td>\n",
       "      <td>131</td>\n",
       "    </tr>\n",
       "    <tr>\n",
       "      <th>...</th>\n",
       "      <td>...</td>\n",
       "      <td>...</td>\n",
       "      <td>...</td>\n",
       "      <td>...</td>\n",
       "    </tr>\n",
       "    <tr>\n",
       "      <th>183</th>\n",
       "      <td>West Bank and Gaza</td>\n",
       "      <td>19971</td>\n",
       "      <td>8798</td>\n",
       "      <td>113</td>\n",
       "    </tr>\n",
       "    <tr>\n",
       "      <th>184</th>\n",
       "      <td>Western Sahara</td>\n",
       "      <td>307</td>\n",
       "      <td>186</td>\n",
       "      <td>1</td>\n",
       "    </tr>\n",
       "    <tr>\n",
       "      <th>185</th>\n",
       "      <td>Yemen</td>\n",
       "      <td>2696</td>\n",
       "      <td>92</td>\n",
       "      <td>460</td>\n",
       "    </tr>\n",
       "    <tr>\n",
       "      <th>186</th>\n",
       "      <td>Zambia</td>\n",
       "      <td>15285</td>\n",
       "      <td>5281</td>\n",
       "      <td>215</td>\n",
       "    </tr>\n",
       "    <tr>\n",
       "      <th>187</th>\n",
       "      <td>Zimbabwe</td>\n",
       "      <td>1760</td>\n",
       "      <td>373</td>\n",
       "      <td>199</td>\n",
       "    </tr>\n",
       "  </tbody>\n",
       "</table>\n",
       "<p>188 rows × 4 columns</p>\n",
       "</div>"
      ],
      "text/plain": [
       "                Country  Confirmed  Recovered  Deaths\n",
       "0           Afghanistan     185236      20845    4669\n",
       "1               Albania      41253      25688    1629\n",
       "2               Algeria     240070     107345   23232\n",
       "3               Andorra      41573      20751    2219\n",
       "4                Angola       1892        506     131\n",
       "..                  ...        ...        ...     ...\n",
       "183  West Bank and Gaza      19971       8798     113\n",
       "184      Western Sahara        307        186       1\n",
       "185               Yemen       2696         92     460\n",
       "186              Zambia      15285       5281     215\n",
       "187            Zimbabwe       1760        373     199\n",
       "\n",
       "[188 rows x 4 columns]"
      ]
     },
     "execution_count": 19,
     "metadata": {},
     "output_type": "execute_result"
    }
   ],
   "source": [
    "dfg.reset_index(level=0, inplace=True) \n",
    "dfg"
   ]
  },
  {
   "cell_type": "code",
   "execution_count": 20,
   "metadata": {},
   "outputs": [],
   "source": [
    "from sklearn.preprocessing import LabelEncoder"
   ]
  },
  {
   "cell_type": "code",
   "execution_count": 21,
   "metadata": {},
   "outputs": [
    {
     "data": {
      "text/html": [
       "<div>\n",
       "<style scoped>\n",
       "    .dataframe tbody tr th:only-of-type {\n",
       "        vertical-align: middle;\n",
       "    }\n",
       "\n",
       "    .dataframe tbody tr th {\n",
       "        vertical-align: top;\n",
       "    }\n",
       "\n",
       "    .dataframe thead th {\n",
       "        text-align: right;\n",
       "    }\n",
       "</style>\n",
       "<table border=\"1\" class=\"dataframe\">\n",
       "  <thead>\n",
       "    <tr style=\"text-align: right;\">\n",
       "      <th></th>\n",
       "      <th>Country</th>\n",
       "      <th>Confirmed</th>\n",
       "      <th>Recovered</th>\n",
       "      <th>Deaths</th>\n",
       "    </tr>\n",
       "  </thead>\n",
       "  <tbody>\n",
       "    <tr>\n",
       "      <th>0</th>\n",
       "      <td>0</td>\n",
       "      <td>185236</td>\n",
       "      <td>20845</td>\n",
       "      <td>4669</td>\n",
       "    </tr>\n",
       "    <tr>\n",
       "      <th>1</th>\n",
       "      <td>1</td>\n",
       "      <td>41253</td>\n",
       "      <td>25688</td>\n",
       "      <td>1629</td>\n",
       "    </tr>\n",
       "    <tr>\n",
       "      <th>2</th>\n",
       "      <td>2</td>\n",
       "      <td>240070</td>\n",
       "      <td>107345</td>\n",
       "      <td>23232</td>\n",
       "    </tr>\n",
       "    <tr>\n",
       "      <th>3</th>\n",
       "      <td>3</td>\n",
       "      <td>41573</td>\n",
       "      <td>20751</td>\n",
       "      <td>2219</td>\n",
       "    </tr>\n",
       "    <tr>\n",
       "      <th>4</th>\n",
       "      <td>4</td>\n",
       "      <td>1892</td>\n",
       "      <td>506</td>\n",
       "      <td>131</td>\n",
       "    </tr>\n",
       "    <tr>\n",
       "      <th>...</th>\n",
       "      <td>...</td>\n",
       "      <td>...</td>\n",
       "      <td>...</td>\n",
       "      <td>...</td>\n",
       "    </tr>\n",
       "    <tr>\n",
       "      <th>183</th>\n",
       "      <td>183</td>\n",
       "      <td>19971</td>\n",
       "      <td>8798</td>\n",
       "      <td>113</td>\n",
       "    </tr>\n",
       "    <tr>\n",
       "      <th>184</th>\n",
       "      <td>184</td>\n",
       "      <td>307</td>\n",
       "      <td>186</td>\n",
       "      <td>1</td>\n",
       "    </tr>\n",
       "    <tr>\n",
       "      <th>185</th>\n",
       "      <td>185</td>\n",
       "      <td>2696</td>\n",
       "      <td>92</td>\n",
       "      <td>460</td>\n",
       "    </tr>\n",
       "    <tr>\n",
       "      <th>186</th>\n",
       "      <td>186</td>\n",
       "      <td>15285</td>\n",
       "      <td>5281</td>\n",
       "      <td>215</td>\n",
       "    </tr>\n",
       "    <tr>\n",
       "      <th>187</th>\n",
       "      <td>187</td>\n",
       "      <td>1760</td>\n",
       "      <td>373</td>\n",
       "      <td>199</td>\n",
       "    </tr>\n",
       "  </tbody>\n",
       "</table>\n",
       "<p>188 rows × 4 columns</p>\n",
       "</div>"
      ],
      "text/plain": [
       "     Country  Confirmed  Recovered  Deaths\n",
       "0          0     185236      20845    4669\n",
       "1          1      41253      25688    1629\n",
       "2          2     240070     107345   23232\n",
       "3          3      41573      20751    2219\n",
       "4          4       1892        506     131\n",
       "..       ...        ...        ...     ...\n",
       "183      183      19971       8798     113\n",
       "184      184        307        186       1\n",
       "185      185       2696         92     460\n",
       "186      186      15285       5281     215\n",
       "187      187       1760        373     199\n",
       "\n",
       "[188 rows x 4 columns]"
      ]
     },
     "execution_count": 21,
     "metadata": {},
     "output_type": "execute_result"
    }
   ],
   "source": [
    "le=LabelEncoder()\n",
    "dfg['Country']=le.fit_transform(dfg['Country'])\n",
    "dfg"
   ]
  },
  {
   "cell_type": "code",
   "execution_count": 22,
   "metadata": {},
   "outputs": [
    {
     "data": {
      "text/html": [
       "<div>\n",
       "<style scoped>\n",
       "    .dataframe tbody tr th:only-of-type {\n",
       "        vertical-align: middle;\n",
       "    }\n",
       "\n",
       "    .dataframe tbody tr th {\n",
       "        vertical-align: top;\n",
       "    }\n",
       "\n",
       "    .dataframe thead th {\n",
       "        text-align: right;\n",
       "    }\n",
       "</style>\n",
       "<table border=\"1\" class=\"dataframe\">\n",
       "  <thead>\n",
       "    <tr style=\"text-align: right;\">\n",
       "      <th></th>\n",
       "      <th>Country</th>\n",
       "      <th>Confirmed</th>\n",
       "      <th>Recovered</th>\n",
       "      <th>Deaths</th>\n",
       "    </tr>\n",
       "  </thead>\n",
       "  <tbody>\n",
       "    <tr>\n",
       "      <th>Country</th>\n",
       "      <td>1.000000</td>\n",
       "      <td>0.111820</td>\n",
       "      <td>0.032929</td>\n",
       "      <td>0.106098</td>\n",
       "    </tr>\n",
       "    <tr>\n",
       "      <th>Confirmed</th>\n",
       "      <td>0.111820</td>\n",
       "      <td>1.000000</td>\n",
       "      <td>0.801388</td>\n",
       "      <td>0.926449</td>\n",
       "    </tr>\n",
       "    <tr>\n",
       "      <th>Recovered</th>\n",
       "      <td>0.032929</td>\n",
       "      <td>0.801388</td>\n",
       "      <td>1.000000</td>\n",
       "      <td>0.759967</td>\n",
       "    </tr>\n",
       "    <tr>\n",
       "      <th>Deaths</th>\n",
       "      <td>0.106098</td>\n",
       "      <td>0.926449</td>\n",
       "      <td>0.759967</td>\n",
       "      <td>1.000000</td>\n",
       "    </tr>\n",
       "  </tbody>\n",
       "</table>\n",
       "</div>"
      ],
      "text/plain": [
       "            Country  Confirmed  Recovered    Deaths\n",
       "Country    1.000000   0.111820   0.032929  0.106098\n",
       "Confirmed  0.111820   1.000000   0.801388  0.926449\n",
       "Recovered  0.032929   0.801388   1.000000  0.759967\n",
       "Deaths     0.106098   0.926449   0.759967  1.000000"
      ]
     },
     "execution_count": 22,
     "metadata": {},
     "output_type": "execute_result"
    }
   ],
   "source": [
    "dco=dfg.corr()\n",
    "dco"
   ]
  },
  {
   "cell_type": "code",
   "execution_count": 23,
   "metadata": {},
   "outputs": [
    {
     "data": {
      "text/plain": [
       "<matplotlib.axes._subplots.AxesSubplot at 0x241cb209848>"
      ]
     },
     "execution_count": 23,
     "metadata": {},
     "output_type": "execute_result"
    },
    {
     "data": {
      "image/png": "[encoded data removed]",
      "text/plain": [
       "<Figure size 720x432 with 2 Axes>"
      ]
     },
     "metadata": {
      "needs_background": "light"
     },
     "output_type": "display_data"
    }
   ],
   "source": [
    "plt.figure(figsize=(10,6))\n",
    "sns.heatmap(dco)"
   ]
  },
  {
   "cell_type": "code",
   "execution_count": 24,
   "metadata": {},
   "outputs": [],
   "source": [
    "from scipy.stats import zscore"
   ]
  },
  {
   "cell_type": "code",
   "execution_count": 25,
   "metadata": {},
   "outputs": [
    {
     "name": "stdout",
     "output_type": "stream",
     "text": [
      "(188, 4)\n",
      "(180, 4)\n"
     ]
    }
   ],
   "source": [
    "z_score=abs(zscore(dfg))\n",
    "print(dfg.shape)\n",
    "dffinal=dfg.loc[(z_score<3).all(axis=1)]\n",
    "print(dffinal.shape)"
   ]
  },
  {
   "cell_type": "code",
   "execution_count": 26,
   "metadata": {},
   "outputs": [
    {
     "data": {
      "text/plain": [
       "Country     -0.011727\n",
       "Confirmed    5.118627\n",
       "Recovered    5.341386\n",
       "Deaths       5.738276\n",
       "dtype: float64"
      ]
     },
     "execution_count": 26,
     "metadata": {},
     "output_type": "execute_result"
    }
   ],
   "source": [
    "dffinal.skew()"
   ]
  },
  {
   "cell_type": "code",
   "execution_count": 27,
   "metadata": {},
   "outputs": [
    {
     "data": {
      "text/html": [
       "<div>\n",
       "<style scoped>\n",
       "    .dataframe tbody tr th:only-of-type {\n",
       "        vertical-align: middle;\n",
       "    }\n",
       "\n",
       "    .dataframe tbody tr th {\n",
       "        vertical-align: top;\n",
       "    }\n",
       "\n",
       "    .dataframe thead th {\n",
       "        text-align: right;\n",
       "    }\n",
       "</style>\n",
       "<table border=\"1\" class=\"dataframe\">\n",
       "  <thead>\n",
       "    <tr style=\"text-align: right;\">\n",
       "      <th></th>\n",
       "      <th>Country</th>\n",
       "      <th>Confirmed</th>\n",
       "      <th>Recovered</th>\n",
       "      <th>Deaths</th>\n",
       "    </tr>\n",
       "  </thead>\n",
       "  <tbody>\n",
       "    <tr>\n",
       "      <th>0</th>\n",
       "      <td>0</td>\n",
       "      <td>185236</td>\n",
       "      <td>20845</td>\n",
       "      <td>4669</td>\n",
       "    </tr>\n",
       "    <tr>\n",
       "      <th>1</th>\n",
       "      <td>1</td>\n",
       "      <td>41253</td>\n",
       "      <td>25688</td>\n",
       "      <td>1629</td>\n",
       "    </tr>\n",
       "    <tr>\n",
       "      <th>2</th>\n",
       "      <td>2</td>\n",
       "      <td>240070</td>\n",
       "      <td>107345</td>\n",
       "      <td>23232</td>\n",
       "    </tr>\n",
       "    <tr>\n",
       "      <th>3</th>\n",
       "      <td>3</td>\n",
       "      <td>41573</td>\n",
       "      <td>20751</td>\n",
       "      <td>2219</td>\n",
       "    </tr>\n",
       "    <tr>\n",
       "      <th>4</th>\n",
       "      <td>4</td>\n",
       "      <td>1892</td>\n",
       "      <td>506</td>\n",
       "      <td>131</td>\n",
       "    </tr>\n",
       "    <tr>\n",
       "      <th>...</th>\n",
       "      <td>...</td>\n",
       "      <td>...</td>\n",
       "      <td>...</td>\n",
       "      <td>...</td>\n",
       "    </tr>\n",
       "    <tr>\n",
       "      <th>183</th>\n",
       "      <td>183</td>\n",
       "      <td>19971</td>\n",
       "      <td>8798</td>\n",
       "      <td>113</td>\n",
       "    </tr>\n",
       "    <tr>\n",
       "      <th>184</th>\n",
       "      <td>184</td>\n",
       "      <td>307</td>\n",
       "      <td>186</td>\n",
       "      <td>1</td>\n",
       "    </tr>\n",
       "    <tr>\n",
       "      <th>185</th>\n",
       "      <td>185</td>\n",
       "      <td>2696</td>\n",
       "      <td>92</td>\n",
       "      <td>460</td>\n",
       "    </tr>\n",
       "    <tr>\n",
       "      <th>186</th>\n",
       "      <td>186</td>\n",
       "      <td>15285</td>\n",
       "      <td>5281</td>\n",
       "      <td>215</td>\n",
       "    </tr>\n",
       "    <tr>\n",
       "      <th>187</th>\n",
       "      <td>187</td>\n",
       "      <td>1760</td>\n",
       "      <td>373</td>\n",
       "      <td>199</td>\n",
       "    </tr>\n",
       "  </tbody>\n",
       "</table>\n",
       "<p>180 rows × 4 columns</p>\n",
       "</div>"
      ],
      "text/plain": [
       "     Country  Confirmed  Recovered  Deaths\n",
       "0          0     185236      20845    4669\n",
       "1          1      41253      25688    1629\n",
       "2          2     240070     107345   23232\n",
       "3          3      41573      20751    2219\n",
       "4          4       1892        506     131\n",
       "..       ...        ...        ...     ...\n",
       "183      183      19971       8798     113\n",
       "184      184        307        186       1\n",
       "185      185       2696         92     460\n",
       "186      186      15285       5281     215\n",
       "187      187       1760        373     199\n",
       "\n",
       "[180 rows x 4 columns]"
      ]
     },
     "execution_count": 27,
     "metadata": {},
     "output_type": "execute_result"
    }
   ],
   "source": [
    "dfp=pd.DataFrame(dffinal)\n",
    "dfp"
   ]
  },
  {
   "cell_type": "code",
   "execution_count": 28,
   "metadata": {},
   "outputs": [],
   "source": [
    "for colu in dfp.columns:\n",
    "    if dfp.skew().loc[colu]>0.55:\n",
    "        dfp[colu]=np.log1p(dfp[colu])"
   ]
  },
  {
   "cell_type": "code",
   "execution_count": 29,
   "metadata": {},
   "outputs": [
    {
     "data": {
      "text/plain": [
       "Country     -0.011727\n",
       "Confirmed   -0.183249\n",
       "Recovered   -0.467191\n",
       "Deaths      -0.533662\n",
       "dtype: float64"
      ]
     },
     "execution_count": 29,
     "metadata": {},
     "output_type": "execute_result"
    }
   ],
   "source": [
    "dfp.skew()"
   ]
  },
  {
   "cell_type": "code",
   "execution_count": 30,
   "metadata": {},
   "outputs": [
    {
     "data": {
      "text/html": [
       "<div>\n",
       "<style scoped>\n",
       "    .dataframe tbody tr th:only-of-type {\n",
       "        vertical-align: middle;\n",
       "    }\n",
       "\n",
       "    .dataframe tbody tr th {\n",
       "        vertical-align: top;\n",
       "    }\n",
       "\n",
       "    .dataframe thead th {\n",
       "        text-align: right;\n",
       "    }\n",
       "</style>\n",
       "<table border=\"1\" class=\"dataframe\">\n",
       "  <thead>\n",
       "    <tr style=\"text-align: right;\">\n",
       "      <th></th>\n",
       "      <th>Country</th>\n",
       "      <th>Confirmed</th>\n",
       "      <th>Recovered</th>\n",
       "      <th>Deaths</th>\n",
       "    </tr>\n",
       "  </thead>\n",
       "  <tbody>\n",
       "    <tr>\n",
       "      <th>0</th>\n",
       "      <td>0</td>\n",
       "      <td>12.129391</td>\n",
       "      <td>9.944917</td>\n",
       "      <td>8.448914</td>\n",
       "    </tr>\n",
       "    <tr>\n",
       "      <th>1</th>\n",
       "      <td>1</td>\n",
       "      <td>10.627503</td>\n",
       "      <td>10.153818</td>\n",
       "      <td>7.396335</td>\n",
       "    </tr>\n",
       "    <tr>\n",
       "      <th>2</th>\n",
       "      <td>2</td>\n",
       "      <td>12.388690</td>\n",
       "      <td>11.583813</td>\n",
       "      <td>10.053329</td>\n",
       "    </tr>\n",
       "    <tr>\n",
       "      <th>3</th>\n",
       "      <td>3</td>\n",
       "      <td>10.635230</td>\n",
       "      <td>9.940398</td>\n",
       "      <td>7.705262</td>\n",
       "    </tr>\n",
       "    <tr>\n",
       "      <th>4</th>\n",
       "      <td>4</td>\n",
       "      <td>7.545918</td>\n",
       "      <td>6.228511</td>\n",
       "      <td>4.882802</td>\n",
       "    </tr>\n",
       "    <tr>\n",
       "      <th>...</th>\n",
       "      <td>...</td>\n",
       "      <td>...</td>\n",
       "      <td>...</td>\n",
       "      <td>...</td>\n",
       "    </tr>\n",
       "    <tr>\n",
       "      <th>183</th>\n",
       "      <td>183</td>\n",
       "      <td>9.902087</td>\n",
       "      <td>9.082393</td>\n",
       "      <td>4.736198</td>\n",
       "    </tr>\n",
       "    <tr>\n",
       "      <th>184</th>\n",
       "      <td>184</td>\n",
       "      <td>5.730100</td>\n",
       "      <td>5.231109</td>\n",
       "      <td>0.693147</td>\n",
       "    </tr>\n",
       "    <tr>\n",
       "      <th>185</th>\n",
       "      <td>185</td>\n",
       "      <td>7.899895</td>\n",
       "      <td>4.532599</td>\n",
       "      <td>6.133398</td>\n",
       "    </tr>\n",
       "    <tr>\n",
       "      <th>186</th>\n",
       "      <td>186</td>\n",
       "      <td>9.634693</td>\n",
       "      <td>8.572060</td>\n",
       "      <td>5.375278</td>\n",
       "    </tr>\n",
       "    <tr>\n",
       "      <th>187</th>\n",
       "      <td>187</td>\n",
       "      <td>7.473637</td>\n",
       "      <td>5.924256</td>\n",
       "      <td>5.298317</td>\n",
       "    </tr>\n",
       "  </tbody>\n",
       "</table>\n",
       "<p>180 rows × 4 columns</p>\n",
       "</div>"
      ],
      "text/plain": [
       "     Country  Confirmed  Recovered     Deaths\n",
       "0          0  12.129391   9.944917   8.448914\n",
       "1          1  10.627503  10.153818   7.396335\n",
       "2          2  12.388690  11.583813  10.053329\n",
       "3          3  10.635230   9.940398   7.705262\n",
       "4          4   7.545918   6.228511   4.882802\n",
       "..       ...        ...        ...        ...\n",
       "183      183   9.902087   9.082393   4.736198\n",
       "184      184   5.730100   5.231109   0.693147\n",
       "185      185   7.899895   4.532599   6.133398\n",
       "186      186   9.634693   8.572060   5.375278\n",
       "187      187   7.473637   5.924256   5.298317\n",
       "\n",
       "[180 rows x 4 columns]"
      ]
     },
     "execution_count": 30,
     "metadata": {},
     "output_type": "execute_result"
    }
   ],
   "source": [
    "dfp"
   ]
  },
  {
   "cell_type": "code",
   "execution_count": 31,
   "metadata": {},
   "outputs": [],
   "source": [
    "x=dfp.drop(columns=['Deaths'])\n",
    "y=dfp['Deaths']"
   ]
  },
  {
   "cell_type": "code",
   "execution_count": 32,
   "metadata": {},
   "outputs": [
    {
     "data": {
      "text/html": [
       "<div>\n",
       "<style scoped>\n",
       "    .dataframe tbody tr th:only-of-type {\n",
       "        vertical-align: middle;\n",
       "    }\n",
       "\n",
       "    .dataframe tbody tr th {\n",
       "        vertical-align: top;\n",
       "    }\n",
       "\n",
       "    .dataframe thead th {\n",
       "        text-align: right;\n",
       "    }\n",
       "</style>\n",
       "<table border=\"1\" class=\"dataframe\">\n",
       "  <thead>\n",
       "    <tr style=\"text-align: right;\">\n",
       "      <th></th>\n",
       "      <th>Country</th>\n",
       "      <th>Confirmed</th>\n",
       "      <th>Recovered</th>\n",
       "    </tr>\n",
       "  </thead>\n",
       "  <tbody>\n",
       "    <tr>\n",
       "      <th>0</th>\n",
       "      <td>0</td>\n",
       "      <td>12.129391</td>\n",
       "      <td>9.944917</td>\n",
       "    </tr>\n",
       "    <tr>\n",
       "      <th>1</th>\n",
       "      <td>1</td>\n",
       "      <td>10.627503</td>\n",
       "      <td>10.153818</td>\n",
       "    </tr>\n",
       "    <tr>\n",
       "      <th>2</th>\n",
       "      <td>2</td>\n",
       "      <td>12.388690</td>\n",
       "      <td>11.583813</td>\n",
       "    </tr>\n",
       "    <tr>\n",
       "      <th>3</th>\n",
       "      <td>3</td>\n",
       "      <td>10.635230</td>\n",
       "      <td>9.940398</td>\n",
       "    </tr>\n",
       "    <tr>\n",
       "      <th>4</th>\n",
       "      <td>4</td>\n",
       "      <td>7.545918</td>\n",
       "      <td>6.228511</td>\n",
       "    </tr>\n",
       "    <tr>\n",
       "      <th>...</th>\n",
       "      <td>...</td>\n",
       "      <td>...</td>\n",
       "      <td>...</td>\n",
       "    </tr>\n",
       "    <tr>\n",
       "      <th>183</th>\n",
       "      <td>183</td>\n",
       "      <td>9.902087</td>\n",
       "      <td>9.082393</td>\n",
       "    </tr>\n",
       "    <tr>\n",
       "      <th>184</th>\n",
       "      <td>184</td>\n",
       "      <td>5.730100</td>\n",
       "      <td>5.231109</td>\n",
       "    </tr>\n",
       "    <tr>\n",
       "      <th>185</th>\n",
       "      <td>185</td>\n",
       "      <td>7.899895</td>\n",
       "      <td>4.532599</td>\n",
       "    </tr>\n",
       "    <tr>\n",
       "      <th>186</th>\n",
       "      <td>186</td>\n",
       "      <td>9.634693</td>\n",
       "      <td>8.572060</td>\n",
       "    </tr>\n",
       "    <tr>\n",
       "      <th>187</th>\n",
       "      <td>187</td>\n",
       "      <td>7.473637</td>\n",
       "      <td>5.924256</td>\n",
       "    </tr>\n",
       "  </tbody>\n",
       "</table>\n",
       "<p>180 rows × 3 columns</p>\n",
       "</div>"
      ],
      "text/plain": [
       "     Country  Confirmed  Recovered\n",
       "0          0  12.129391   9.944917\n",
       "1          1  10.627503  10.153818\n",
       "2          2  12.388690  11.583813\n",
       "3          3  10.635230   9.940398\n",
       "4          4   7.545918   6.228511\n",
       "..       ...        ...        ...\n",
       "183      183   9.902087   9.082393\n",
       "184      184   5.730100   5.231109\n",
       "185      185   7.899895   4.532599\n",
       "186      186   9.634693   8.572060\n",
       "187      187   7.473637   5.924256\n",
       "\n",
       "[180 rows x 3 columns]"
      ]
     },
     "execution_count": 32,
     "metadata": {},
     "output_type": "execute_result"
    }
   ],
   "source": [
    "x"
   ]
  },
  {
   "cell_type": "code",
   "execution_count": 33,
   "metadata": {},
   "outputs": [
    {
     "data": {
      "text/plain": [
       "0       8.448914\n",
       "1       7.396335\n",
       "2      10.053329\n",
       "3       7.705262\n",
       "4       4.882802\n",
       "         ...    \n",
       "183     4.736198\n",
       "184     0.693147\n",
       "185     6.133398\n",
       "186     5.375278\n",
       "187     5.298317\n",
       "Name: Deaths, Length: 180, dtype: float64"
      ]
     },
     "execution_count": 33,
     "metadata": {},
     "output_type": "execute_result"
    }
   ],
   "source": [
    "y"
   ]
  },
  {
   "cell_type": "code",
   "execution_count": 34,
   "metadata": {},
   "outputs": [],
   "source": [
    "from sklearn.preprocessing import StandardScaler"
   ]
  },
  {
   "cell_type": "code",
   "execution_count": 35,
   "metadata": {},
   "outputs": [
    {
     "data": {
      "text/plain": [
       "array([[-1.71271592e+00,  6.26548839e-01,  2.11173435e-01],\n",
       "       [-1.69429742e+00,  1.29192725e-02,  2.90909388e-01],\n",
       "       [-1.67587892e+00,  7.32491029e-01,  8.36728095e-01],\n",
       "       [-1.65746042e+00,  1.60762660e-02,  2.09448391e-01],\n",
       "       [-1.63904192e+00, -1.24613053e+00, -1.20735250e+00],\n",
       "       [-1.62062341e+00, -1.39065723e+00, -1.14819177e+00],\n",
       "       [-1.60220491e+00,  7.99045809e-01,  7.31668774e-01],\n",
       "       [-1.58378641e+00,  5.38102882e-01,  6.10348366e-01],\n",
       "       [-1.56536791e+00,  9.47249899e-01,  1.16918903e+00],\n",
       "       [-1.54694941e+00,  1.28105085e+00,  1.50294449e+00],\n",
       "       [-1.52853091e+00,  4.27444865e-01,  6.51972823e-01],\n",
       "       [-1.51011241e+00, -9.29977733e-01, -8.61698003e-01],\n",
       "       [-1.49169391e+00,  6.86907757e-01,  8.00922338e-01],\n",
       "       [-1.47327541e+00,  1.09912761e+00,  7.96921818e-01],\n",
       "       [-1.45485691e+00, -8.86572124e-01, -6.66536902e-01],\n",
       "       [-1.43643841e+00,  1.24205670e+00,  1.13480157e+00],\n",
       "       [-1.41801991e+00,  1.68669689e+00,  1.48548821e+00],\n",
       "       [-1.39960141e+00, -1.55082240e+00, -1.23872069e+00],\n",
       "       [-1.38118291e+00, -7.28925996e-01, -6.39242640e-01],\n",
       "       [-1.36276440e+00, -1.70949212e+00, -1.54377795e+00],\n",
       "       [-1.34434590e+00,  4.08743009e-01, -3.49876162e-02],\n",
       "       [-1.32592740e+00,  3.43553303e-01,  4.76547591e-01],\n",
       "       [-1.30750890e+00, -1.46312473e+00, -1.31640660e+00],\n",
       "       [-1.28909040e+00,  2.09268421e+00,  2.06293803e+00],\n",
       "       [-1.27067190e+00, -5.90202701e-01, -2.21613354e-01],\n",
       "       [-1.25225340e+00,  2.97370801e-01,  1.49182039e-01],\n",
       "       [-1.23383490e+00, -3.25185952e-02,  2.60294502e-01],\n",
       "       [-1.21541640e+00, -7.01618865e-01, -6.25555639e-01],\n",
       "       [-1.19699790e+00, -1.58645556e+00, -1.34989155e+00],\n",
       "       [-1.17857940e+00, -6.19811588e-01, -6.95737187e-01],\n",
       "       [-1.16016090e+00, -6.55989448e-01, -2.71315358e-01],\n",
       "       [-1.14174240e+00,  4.24442805e-01,  5.16654221e-01],\n",
       "       [-1.12332390e+00,  1.75015626e+00,  1.76129090e+00],\n",
       "       [-1.10490539e+00, -6.82490483e-01, -1.22824061e+00],\n",
       "       [-1.08648689e+00, -5.21729081e-01, -5.24959295e-01],\n",
       "       [-1.06806839e+00,  1.42972716e+00,  1.46665285e+00],\n",
       "       [-1.03123139e+00,  1.00355752e+00,  8.20593758e-01],\n",
       "       [-1.01281289e+00, -1.68602699e+00, -1.71526026e+00],\n",
       "       [-9.94394390e-01, -4.67570674e-01, -6.25883695e-01],\n",
       "       [-9.75975889e-01,  3.39678826e-02, -2.69633889e-01],\n",
       "       [-9.57557388e-01,  2.45187822e-02,  1.31797815e-01],\n",
       "       [-9.39138888e-01,  2.37470371e-01,  3.52494959e-01],\n",
       "       [-9.20720387e-01,  4.24529608e-01,  6.42734428e-01],\n",
       "       [-9.02301886e-01,  2.48200617e-01,  4.64821681e-01],\n",
       "       [-8.83883385e-01,  5.23606413e-02,  6.92559532e-02],\n",
       "       [-8.65464885e-01,  9.67810054e-01,  1.00375607e+00],\n",
       "       [-8.47046384e-01,  1.04528524e+00,  1.27130143e+00],\n",
       "       [-8.28627883e-01,  2.39989192e-01,  5.03875577e-01],\n",
       "       [-8.10209382e-01,  1.34778053e-01,  3.25991038e-01],\n",
       "       [-7.91790882e-01, -1.52525075e+00, -1.15077953e+00],\n",
       "       [-7.73372381e-01,  9.57063505e-01,  8.95615076e-01],\n",
       "       [-7.54953880e-01,  1.38103752e+00,  9.37048964e-01],\n",
       "       [-7.36535380e-01,  9.23933198e-01,  7.98296693e-01],\n",
       "       [-7.18116879e-01, -5.12376887e-02, -1.71598847e-02],\n",
       "       [-6.99698378e-01, -3.07392340e-01, -8.50598881e-01],\n",
       "       [-6.81279877e-01, -1.20237153e+00, -9.23336624e-01],\n",
       "       [-6.62861377e-01,  3.50048952e-01,  2.98907868e-01],\n",
       "       [-6.44442876e-01, -7.98781807e-01, -7.24584931e-01],\n",
       "       [-6.26024375e-01, -5.35786378e-01, -4.78744707e-01],\n",
       "       [-6.07605874e-01, -1.51512035e+00, -1.23063367e+00],\n",
       "       [-5.89187374e-01,  7.79905486e-01,  9.61658083e-01],\n",
       "       [-5.52350372e-01, -9.85314232e-02, -2.32814948e-01],\n",
       "       [-5.33931871e-01, -1.58595941e+00, -1.31143009e+00],\n",
       "       [-5.15513371e-01, -1.42512225e-01,  1.09529082e-02],\n",
       "       [-4.78676369e-01,  5.44941546e-01,  3.49944960e-01],\n",
       "       [-4.60257868e-01,  5.39142291e-01,  5.22773318e-01],\n",
       "       [-4.41839368e-01, -1.49044892e+00, -1.22744624e+00],\n",
       "       [-4.23420867e-01,  1.06100964e-01, -3.69944281e-01],\n",
       "       [-4.05002366e-01,  2.78404687e-01,  3.33612804e-01],\n",
       "       [-3.86583865e-01, -2.38290293e-01, -9.99057765e-01],\n",
       "       [-3.68165365e-01, -8.85410010e-01, -8.43278117e-01],\n",
       "       [-3.49746864e-01, -5.00239117e-01, -1.19113917e+00],\n",
       "       [-3.31328363e-01, -1.70681733e+00, -1.83080631e+00],\n",
       "       [-3.12909863e-01,  2.62523936e-01, -1.67140749e-01],\n",
       "       [-2.94491362e-01,  5.11844691e-01,  4.33417985e-01],\n",
       "       [-2.76072861e-01,  4.07180086e-01,  7.16972420e-01],\n",
       "       [-2.57654360e-01,  1.71777603e+00,  1.64983525e+00],\n",
       "       [-2.39235860e-01,  1.10487436e+00,  8.47746712e-01],\n",
       "       [-2.02398858e-01,  4.88404589e-01,  7.17857038e-01],\n",
       "       [-1.83980357e-01,  1.31356965e+00,  1.47524743e+00],\n",
       "       [-1.65561857e-01,  1.23582938e+00,  1.35451422e+00],\n",
       "       [-1.28724855e-01, -3.12609665e-01, -4.54215457e-01],\n",
       "       [-1.10306354e-01,  1.16701600e+00,  1.18561401e+00],\n",
       "       [-9.18878537e-02, -1.25652722e-01,  1.48621613e-01],\n",
       "       [-7.34693529e-02,  6.59641937e-01,  7.15499999e-01],\n",
       "       [-5.50508522e-02, -1.35004215e-01, -1.16746697e-01],\n",
       "       [-3.66323515e-02,  1.25302680e+00,  1.45086201e+00],\n",
       "       [-1.82138507e-02, -2.37039705e-02,  1.82689711e-01],\n",
       "       [ 2.04650008e-04,  9.15485652e-01,  8.41178704e-01],\n",
       "       [ 1.86231507e-02,  2.07470526e-02,  2.70759023e-01],\n",
       "       [ 3.70416515e-02, -1.48771076e+00, -1.30749508e+00],\n",
       "       [ 5.54601522e-02,  7.91674287e-02,  1.51072782e-01],\n",
       "       [ 7.38786530e-02,  6.98661983e-02, -9.54324873e-03],\n",
       "       [ 9.22971537e-02, -3.10520961e+00, -3.58473095e+00],\n",
       "       [ 1.10715654e-01, -6.77147478e-01, -5.37118186e-01],\n",
       "       [ 1.29134155e-01, -1.06542502e+00, -9.22621843e-01],\n",
       "       [ 1.47552656e-01, -8.33427308e-01, -5.54274316e-01],\n",
       "       [ 1.65971157e-01,  2.64551140e-01,  3.45669607e-01],\n",
       "       [ 1.84389657e-01,  6.93433181e-01,  9.02485646e-01],\n",
       "       [ 2.02808158e-01, -1.77957957e+00, -3.58473095e+00],\n",
       "       [ 2.21226659e-01, -5.37878211e-01, -4.21152128e-01],\n",
       "       [ 2.39645160e-01, -1.19678643e+00, -1.13990070e+00],\n",
       "       [ 2.58063660e-01,  8.85893564e-01,  1.10455478e+00],\n",
       "       [ 2.76482161e-01, -1.53123941e-01, -6.63265229e-01],\n",
       "       [ 2.94900662e-01, -1.68842232e-01,  3.61213344e-03],\n",
       "       [ 3.13319163e-01, -1.65655958e-01,  7.96041178e-02],\n",
       "       [ 3.31737663e-01, -1.17845839e+00, -1.39759253e+00],\n",
       "       [ 3.50156164e-01, -3.17094052e-01,  1.04885427e-02],\n",
       "       [ 3.68574665e-01,  1.44578751e+00,  1.62596724e+00],\n",
       "       [ 3.86993166e-01,  6.76606880e-01,  6.82678973e-01],\n",
       "       [ 4.05411666e-01, -8.07245390e-01, -5.53187646e-01],\n",
       "       [ 4.23830167e-01, -1.03189053e+00, -1.09529441e+00],\n",
       "       [ 4.42248668e-01, -3.41957995e-01, -8.59057529e-02],\n",
       "       [ 4.60667168e-01,  7.33082854e-01,  7.72147661e-01],\n",
       "       [ 4.79085669e-01, -9.10157224e-01, -9.05515229e-01],\n",
       "       [ 4.97504170e-01, -1.50280066e+00, -1.24865686e+00],\n",
       "       [ 5.15922671e-01, -6.43307483e-01, -8.40676641e-01],\n",
       "       [ 5.34341171e-01,  1.61372538e+00, -9.51060448e-03],\n",
       "       [ 5.52759672e-01,  2.90636149e-01,  5.96244210e-01],\n",
       "       [ 5.71178173e-01, -1.01782642e+00, -6.83138918e-01],\n",
       "       [ 5.89596674e-01, -2.70213361e-02,  2.21363116e-01],\n",
       "       [ 6.08015174e-01,  5.51757694e-01,  4.21596578e-01],\n",
       "       [ 6.26433675e-01,  2.64642075e-01,  4.32527052e-01],\n",
       "       [ 6.44852176e-01,  1.00140068e+00,  4.63036985e-01],\n",
       "       [ 6.63270677e-01,  5.51243514e-01,  4.62326453e-01],\n",
       "       [ 6.81689177e-01,  1.38570739e+00,  1.24834788e+00],\n",
       "       [ 7.00107678e-01,  8.91042637e-01,  8.70116576e-01],\n",
       "       [ 7.18526179e-01, -1.92428430e+00, -1.59215818e+00],\n",
       "       [ 7.36944680e-01, -2.21180270e-01, -2.34989173e-01],\n",
       "       [ 7.55363180e-01,  1.69390048e+00,  1.63983810e+00],\n",
       "       [ 7.73781681e-01,  1.01478438e+00,  6.86287249e-01],\n",
       "       [ 7.92200182e-01,  1.17225324e+00,  1.07746915e+00],\n",
       "       [ 8.10618682e-01,  1.42637937e+00,  9.82741836e-01],\n",
       "       [ 8.29037183e-01,  1.27551509e+00,  9.16042787e-01],\n",
       "       [ 8.47455684e-01,  1.13982372e+00,  1.18084316e+00],\n",
       "       [ 8.65874185e-01,  2.13644603e+00,  1.86469596e+00],\n",
       "       [ 8.84292685e-01, -4.78007851e-01, -2.65973308e-01],\n",
       "       [ 9.02711186e-01, -1.59752592e+00, -1.33173769e+00],\n",
       "       [ 9.21129687e-01, -1.51721023e+00, -1.08641743e+00],\n",
       "       [ 9.39548188e-01, -1.60111216e+00, -1.31740974e+00],\n",
       "       [ 9.57966688e-01, -9.07098344e-02, -2.61146511e-01],\n",
       "       [ 9.76385189e-01, -8.16566264e-01, -1.60050152e+00],\n",
       "       [ 9.94803690e-01,  1.48799547e+00,  1.48699271e+00],\n",
       "       [ 1.01322219e+00,  2.20183834e-01,  3.31200519e-01],\n",
       "       [ 1.03164069e+00,  9.64970162e-01,  8.51610006e-01],\n",
       "       [ 1.05005919e+00, -1.63938484e+00, -1.38062560e+00],\n",
       "       [ 1.06847769e+00, -4.99474781e-01, -4.96214188e-01],\n",
       "       [ 1.08689619e+00,  1.25273585e+00,  1.07924386e+00],\n",
       "       [ 1.10531469e+00,  2.28132660e-01,  3.72351950e-01],\n",
       "       [ 1.12373320e+00,  2.99158931e-01,  2.17690810e-01],\n",
       "       [ 1.14215170e+00, -3.33274188e-02, -4.47884036e-01],\n",
       "       [ 1.16057020e+00,  9.88622474e-01,  1.03862624e+00],\n",
       "       [ 1.17898870e+00, -6.96246187e-01, -1.94189985e+00],\n",
       "       [ 1.21582570e+00, -5.71905931e-02,  4.09306512e-02],\n",
       "       [ 1.23424420e+00,  1.30314516e-01, -2.72743948e-01],\n",
       "       [ 1.25266270e+00, -1.67787409e+00, -1.32862182e+00],\n",
       "       [ 1.27108120e+00,  1.37328419e+00,  9.10511731e-01],\n",
       "       [ 1.28949970e+00,  1.53533319e+00,  1.74032904e+00],\n",
       "       [ 1.30791820e+00, -1.14108316e+00, -9.31654278e-01],\n",
       "       [ 1.32633670e+00, -1.47600217e-01,  9.21381023e-02],\n",
       "       [ 1.34475520e+00, -7.64992698e-02, -1.54047864e-01],\n",
       "       [ 1.36317370e+00, -3.31195053e-01, -3.05535887e-01],\n",
       "       [ 1.38159221e+00,  5.91492389e-01,  8.92309640e-01],\n",
       "       [ 1.40001071e+00, -1.50686608e+00, -1.13364330e+00],\n",
       "       [ 1.41842921e+00, -6.13431131e-01, -4.34333779e-01],\n",
       "       [ 1.43684771e+00, -7.06659493e-01, -4.76963174e-01],\n",
       "       [ 1.45526621e+00,  1.10648367e-01,  2.21612623e-01],\n",
       "       [ 1.47368471e+00,  2.03847652e+00,  2.09438954e+00],\n",
       "       [ 1.51052171e+00, -7.62131642e-01, -6.48705874e-01],\n",
       "       [ 1.52894021e+00,  1.08585855e+00,  8.75547774e-01],\n",
       "       [ 1.54735871e+00,  1.18920203e+00,  1.13528980e+00],\n",
       "       [ 1.58419571e+00, -3.36269788e-02,  2.28323414e-01],\n",
       "       [ 1.60261421e+00,  3.91730543e-01,  6.26067503e-01],\n",
       "       [ 1.62103271e+00, -2.14853528e-01, -1.10018958e-01],\n",
       "       [ 1.63945122e+00, -3.13952025e-01,  1.02406499e-02],\n",
       "       [ 1.65786972e+00, -2.83465801e-01, -1.18045857e-01],\n",
       "       [ 1.67628822e+00, -1.98802329e+00, -1.58805391e+00],\n",
       "       [ 1.69470672e+00, -1.10150532e+00, -1.85466989e+00],\n",
       "       [ 1.71312522e+00, -3.92715500e-01, -3.12836443e-01],\n",
       "       [ 1.73154372e+00, -1.27566255e+00, -1.32348455e+00]])"
      ]
     },
     "execution_count": 35,
     "metadata": {},
     "output_type": "execute_result"
    }
   ],
   "source": [
    "scale=StandardScaler()\n",
    "x=scale.fit_transform(x)\n",
    "x"
   ]
  },
  {
   "cell_type": "code",
   "execution_count": 36,
   "metadata": {},
   "outputs": [
    {
     "data": {
      "text/html": [
       "<div>\n",
       "<style scoped>\n",
       "    .dataframe tbody tr th:only-of-type {\n",
       "        vertical-align: middle;\n",
       "    }\n",
       "\n",
       "    .dataframe tbody tr th {\n",
       "        vertical-align: top;\n",
       "    }\n",
       "\n",
       "    .dataframe thead th {\n",
       "        text-align: right;\n",
       "    }\n",
       "</style>\n",
       "<table border=\"1\" class=\"dataframe\">\n",
       "  <thead>\n",
       "    <tr style=\"text-align: right;\">\n",
       "      <th></th>\n",
       "      <th>0</th>\n",
       "      <th>1</th>\n",
       "      <th>2</th>\n",
       "    </tr>\n",
       "  </thead>\n",
       "  <tbody>\n",
       "    <tr>\n",
       "      <th>0</th>\n",
       "      <td>-1.712716</td>\n",
       "      <td>0.626549</td>\n",
       "      <td>0.211173</td>\n",
       "    </tr>\n",
       "    <tr>\n",
       "      <th>1</th>\n",
       "      <td>-1.694297</td>\n",
       "      <td>0.012919</td>\n",
       "      <td>0.290909</td>\n",
       "    </tr>\n",
       "    <tr>\n",
       "      <th>2</th>\n",
       "      <td>-1.675879</td>\n",
       "      <td>0.732491</td>\n",
       "      <td>0.836728</td>\n",
       "    </tr>\n",
       "    <tr>\n",
       "      <th>3</th>\n",
       "      <td>-1.657460</td>\n",
       "      <td>0.016076</td>\n",
       "      <td>0.209448</td>\n",
       "    </tr>\n",
       "    <tr>\n",
       "      <th>4</th>\n",
       "      <td>-1.639042</td>\n",
       "      <td>-1.246131</td>\n",
       "      <td>-1.207352</td>\n",
       "    </tr>\n",
       "    <tr>\n",
       "      <th>...</th>\n",
       "      <td>...</td>\n",
       "      <td>...</td>\n",
       "      <td>...</td>\n",
       "    </tr>\n",
       "    <tr>\n",
       "      <th>175</th>\n",
       "      <td>1.657870</td>\n",
       "      <td>-0.283466</td>\n",
       "      <td>-0.118046</td>\n",
       "    </tr>\n",
       "    <tr>\n",
       "      <th>176</th>\n",
       "      <td>1.676288</td>\n",
       "      <td>-1.988023</td>\n",
       "      <td>-1.588054</td>\n",
       "    </tr>\n",
       "    <tr>\n",
       "      <th>177</th>\n",
       "      <td>1.694707</td>\n",
       "      <td>-1.101505</td>\n",
       "      <td>-1.854670</td>\n",
       "    </tr>\n",
       "    <tr>\n",
       "      <th>178</th>\n",
       "      <td>1.713125</td>\n",
       "      <td>-0.392715</td>\n",
       "      <td>-0.312836</td>\n",
       "    </tr>\n",
       "    <tr>\n",
       "      <th>179</th>\n",
       "      <td>1.731544</td>\n",
       "      <td>-1.275663</td>\n",
       "      <td>-1.323485</td>\n",
       "    </tr>\n",
       "  </tbody>\n",
       "</table>\n",
       "<p>180 rows × 3 columns</p>\n",
       "</div>"
      ],
      "text/plain": [
       "            0         1         2\n",
       "0   -1.712716  0.626549  0.211173\n",
       "1   -1.694297  0.012919  0.290909\n",
       "2   -1.675879  0.732491  0.836728\n",
       "3   -1.657460  0.016076  0.209448\n",
       "4   -1.639042 -1.246131 -1.207352\n",
       "..        ...       ...       ...\n",
       "175  1.657870 -0.283466 -0.118046\n",
       "176  1.676288 -1.988023 -1.588054\n",
       "177  1.694707 -1.101505 -1.854670\n",
       "178  1.713125 -0.392715 -0.312836\n",
       "179  1.731544 -1.275663 -1.323485\n",
       "\n",
       "[180 rows x 3 columns]"
      ]
     },
     "execution_count": 36,
     "metadata": {},
     "output_type": "execute_result"
    }
   ],
   "source": [
    "xd=pd.DataFrame(x)\n",
    "xd"
   ]
  },
  {
   "cell_type": "code",
   "execution_count": 37,
   "metadata": {},
   "outputs": [
    {
     "data": {
      "text/plain": [
       "0   -0.011727\n",
       "1   -0.183249\n",
       "2   -0.467191\n",
       "dtype: float64"
      ]
     },
     "execution_count": 37,
     "metadata": {},
     "output_type": "execute_result"
    }
   ],
   "source": [
    "xd.skew()"
   ]
  },
  {
   "cell_type": "code",
   "execution_count": 38,
   "metadata": {},
   "outputs": [],
   "source": [
    "xtrain,xtest,ytrain,ytest=train_test_split(xd,y,test_size=.22,random_state=42)"
   ]
  },
  {
   "cell_type": "code",
   "execution_count": 39,
   "metadata": {},
   "outputs": [],
   "source": [
    "from sklearn.metrics import mean_absolute_error\n",
    "from sklearn.metrics import mean_squared_error\n",
    "from sklearn.metrics import r2_score\n",
    "from sklearn.linear_model import LinearRegression\n",
    "def maxr2_score(regr,xd,y):\n",
    "    max_r_score=0\n",
    "    for r_state in range(42,100):\n",
    "        xtrain,xtest,ytrain,ytest=train_test_split(xd,y,test_size=.22,random_state=r_state)\n",
    "        regr.fit(xtrain,ytrain)\n",
    "        ypred=regr.predict(xtest)\n",
    "        r2_scr=r2_score(ytest,ypred)\n",
    "        print('r2 score corresponding to ',r_state,'is',r2_scr)\n",
    "        if r2_scr>max_r_score:\n",
    "            max_r_score= r2_scr\n",
    "            finalrstate=r_state\n",
    "    print('max r2 score corresponding to',finalrstate,'is',max_r_score)\n",
    "    return finalrstate"
   ]
  },
  {
   "cell_type": "code",
   "execution_count": 40,
   "metadata": {},
   "outputs": [
    {
     "name": "stdout",
     "output_type": "stream",
     "text": [
      "r2 score corresponding to  42 is 0.8410845074870646\n",
      "r2 score corresponding to  43 is 0.7042414290796464\n",
      "r2 score corresponding to  44 is 0.7431043513552951\n",
      "r2 score corresponding to  45 is 0.7158259083151643\n",
      "r2 score corresponding to  46 is 0.8034940398173609\n",
      "r2 score corresponding to  47 is 0.7792246199711099\n",
      "r2 score corresponding to  48 is 0.6639631511750849\n",
      "r2 score corresponding to  49 is 0.8653821200408087\n",
      "r2 score corresponding to  50 is 0.7955722510390848\n",
      "r2 score corresponding to  51 is 0.8163516079480855\n",
      "r2 score corresponding to  52 is 0.6416044970363759\n",
      "r2 score corresponding to  53 is 0.8420692241859491\n",
      "r2 score corresponding to  54 is 0.7481320082595806\n",
      "r2 score corresponding to  55 is 0.7392073000225217\n",
      "r2 score corresponding to  56 is 0.7067745962715215\n",
      "r2 score corresponding to  57 is 0.78484957560334\n",
      "r2 score corresponding to  58 is 0.7418189899416345\n",
      "r2 score corresponding to  59 is 0.7843474117868661\n",
      "r2 score corresponding to  60 is 0.7266629453270368\n",
      "r2 score corresponding to  61 is 0.7538551159436588\n",
      "r2 score corresponding to  62 is 0.8118716539152717\n",
      "r2 score corresponding to  63 is 0.5903981240003895\n",
      "r2 score corresponding to  64 is 0.7686588329664626\n",
      "r2 score corresponding to  65 is 0.6962938593882895\n",
      "r2 score corresponding to  66 is 0.7124632754320519\n",
      "r2 score corresponding to  67 is 0.7727673996412109\n",
      "r2 score corresponding to  68 is 0.7127570188212757\n",
      "r2 score corresponding to  69 is 0.8162709648286571\n",
      "r2 score corresponding to  70 is 0.7457037425136486\n",
      "r2 score corresponding to  71 is 0.8050550024066871\n",
      "r2 score corresponding to  72 is 0.6815901809875857\n",
      "r2 score corresponding to  73 is 0.7752032197056058\n",
      "r2 score corresponding to  74 is 0.7727398837515993\n",
      "r2 score corresponding to  75 is 0.7290306323553907\n",
      "r2 score corresponding to  76 is 0.7824808707155299\n",
      "r2 score corresponding to  77 is 0.7561131628227135\n",
      "r2 score corresponding to  78 is 0.7327932706105533\n",
      "r2 score corresponding to  79 is 0.8271571314483448\n",
      "r2 score corresponding to  80 is 0.7971790694752847\n",
      "r2 score corresponding to  81 is 0.8441406868945276\n",
      "r2 score corresponding to  82 is 0.7757455521507998\n",
      "r2 score corresponding to  83 is 0.7486841555746233\n",
      "r2 score corresponding to  84 is 0.803278326805466\n",
      "r2 score corresponding to  85 is 0.7707071646402047\n",
      "r2 score corresponding to  86 is 0.8455534248955578\n",
      "r2 score corresponding to  87 is 0.6858620229564658\n",
      "r2 score corresponding to  88 is 0.7842738935353941\n",
      "r2 score corresponding to  89 is 0.818078196584012\n",
      "r2 score corresponding to  90 is 0.7883382075994306\n",
      "r2 score corresponding to  91 is 0.751633360410003\n",
      "r2 score corresponding to  92 is 0.7821422029963832\n",
      "r2 score corresponding to  93 is 0.7531381496093104\n",
      "r2 score corresponding to  94 is 0.8631901164000713\n",
      "r2 score corresponding to  95 is 0.8125282221123188\n",
      "r2 score corresponding to  96 is 0.732277993805913\n",
      "r2 score corresponding to  97 is 0.5987505582840035\n",
      "r2 score corresponding to  98 is 0.7969806694632828\n",
      "r2 score corresponding to  99 is 0.8953414518399713\n",
      "max r2 score corresponding to 99 is 0.8953414518399713\n"
     ]
    }
   ],
   "source": [
    "lreg=LinearRegression()\n",
    "r_state=maxr2_score(lreg,xd,y)"
   ]
  },
  {
   "cell_type": "code",
   "execution_count": 41,
   "metadata": {},
   "outputs": [
    {
     "data": {
      "text/plain": [
       "{'n_neighbors': 5}"
      ]
     },
     "execution_count": 41,
     "metadata": {},
     "output_type": "execute_result"
    }
   ],
   "source": [
    "from sklearn.model_selection import GridSearchCV\n",
    "from sklearn.neighbors import KNeighborsRegressor\n",
    "neighbors={'n_neighbors':range(1,30)}\n",
    "knr=KNeighborsRegressor()\n",
    "gknr=GridSearchCV(knr,neighbors,cv=10)\n",
    "gknr.fit(xd,y)\n",
    "gknr.best_params_"
   ]
  },
  {
   "cell_type": "code",
   "execution_count": 42,
   "metadata": {},
   "outputs": [
    {
     "name": "stdout",
     "output_type": "stream",
     "text": [
      "r2 score corresponding to  42 is 0.7335948772518684\n",
      "r2 score corresponding to  43 is 0.5682870878379909\n",
      "r2 score corresponding to  44 is 0.6765661430265679\n",
      "r2 score corresponding to  45 is 0.6325157511097228\n",
      "r2 score corresponding to  46 is 0.7614375951832878\n",
      "r2 score corresponding to  47 is 0.7071548353807122\n",
      "r2 score corresponding to  48 is 0.532119600057176\n",
      "r2 score corresponding to  49 is 0.7671398082991507\n",
      "r2 score corresponding to  50 is 0.6277581508263533\n",
      "r2 score corresponding to  51 is 0.7714559067256541\n",
      "r2 score corresponding to  52 is 0.47065269077508187\n",
      "r2 score corresponding to  53 is 0.7850843636012802\n",
      "r2 score corresponding to  54 is 0.6664888581801509\n",
      "r2 score corresponding to  55 is 0.665952054895105\n",
      "r2 score corresponding to  56 is 0.5657838358492884\n",
      "r2 score corresponding to  57 is 0.6808353053815015\n",
      "r2 score corresponding to  58 is 0.6952737907562014\n",
      "r2 score corresponding to  59 is 0.6486720149385854\n",
      "r2 score corresponding to  60 is 0.6212238799196669\n",
      "r2 score corresponding to  61 is 0.7450586427026479\n",
      "r2 score corresponding to  62 is 0.7282089181176683\n",
      "r2 score corresponding to  63 is 0.415301011063107\n",
      "r2 score corresponding to  64 is 0.7230807591437378\n",
      "r2 score corresponding to  65 is 0.6203169050490095\n",
      "r2 score corresponding to  66 is 0.660546634775591\n",
      "r2 score corresponding to  67 is 0.7369956182381961\n",
      "r2 score corresponding to  68 is 0.618473777515191\n",
      "r2 score corresponding to  69 is 0.753367309853736\n",
      "r2 score corresponding to  70 is 0.7568536285356239\n",
      "r2 score corresponding to  71 is 0.7638927503545618\n",
      "r2 score corresponding to  72 is 0.5012864047954827\n",
      "r2 score corresponding to  73 is 0.7453011329254081\n",
      "r2 score corresponding to  74 is 0.7131044947563674\n",
      "r2 score corresponding to  75 is 0.6448605235170886\n",
      "r2 score corresponding to  76 is 0.7418523288145835\n",
      "r2 score corresponding to  77 is 0.6759067466697434\n",
      "r2 score corresponding to  78 is 0.6689979604452867\n",
      "r2 score corresponding to  79 is 0.7794208345781884\n",
      "r2 score corresponding to  80 is 0.6964004054887273\n",
      "r2 score corresponding to  81 is 0.8002115169493355\n",
      "r2 score corresponding to  82 is 0.678486856833131\n",
      "r2 score corresponding to  83 is 0.5906957854662107\n",
      "r2 score corresponding to  84 is 0.6645800556180657\n",
      "r2 score corresponding to  85 is 0.686839624343131\n",
      "r2 score corresponding to  86 is 0.739814238459688\n",
      "r2 score corresponding to  87 is 0.5904730777814704\n",
      "r2 score corresponding to  88 is 0.6888433715105919\n",
      "r2 score corresponding to  89 is 0.7074600698763307\n",
      "r2 score corresponding to  90 is 0.6723720269062134\n",
      "r2 score corresponding to  91 is 0.6099891494534986\n",
      "r2 score corresponding to  92 is 0.6404607221784788\n",
      "r2 score corresponding to  93 is 0.6660651019421284\n",
      "r2 score corresponding to  94 is 0.8007406742434515\n",
      "r2 score corresponding to  95 is 0.7579270695149142\n",
      "r2 score corresponding to  96 is 0.6574508068363577\n",
      "r2 score corresponding to  97 is 0.5136544447772798\n",
      "r2 score corresponding to  98 is 0.7646579159874893\n",
      "r2 score corresponding to  99 is 0.8674856046182525\n",
      "max r2 score corresponding to 99 is 0.8674856046182525\n"
     ]
    }
   ],
   "source": [
    "knr=KNeighborsRegressor(n_neighbors=5)\n",
    "r_state=maxr2_score(knr,xd,y)"
   ]
  },
  {
   "cell_type": "code",
   "execution_count": 43,
   "metadata": {},
   "outputs": [
    {
     "name": "stdout",
     "output_type": "stream",
     "text": [
      "mean r2 score for LR 0.7278696375866602\n",
      "Std dev. in r2 score for LR is 0.1227417167770025\n"
     ]
    }
   ],
   "source": [
    "from sklearn.model_selection import cross_val_score\n",
    "print('mean r2 score for LR',cross_val_score(lreg,xd,y,cv=10,scoring='r2').mean())\n",
    "print('Std dev. in r2 score for LR is',cross_val_score(lreg,xd,y,cv=10,scoring='r2').std())"
   ]
  },
  {
   "cell_type": "code",
   "execution_count": 44,
   "metadata": {},
   "outputs": [
    {
     "name": "stdout",
     "output_type": "stream",
     "text": [
      "mean r2 score for KNN 0.6608713796232345\n",
      "Std dev. in r2 score for KNR is 0.13715491002783847\n"
     ]
    }
   ],
   "source": [
    "print('mean r2 score for KNN',cross_val_score(knr,xd,y,cv=10,scoring='r2').mean())\n",
    "print('Std dev. in r2 score for KNR is',cross_val_score(knr,xd,y,cv=10,scoring='r2').std())"
   ]
  },
  {
   "cell_type": "code",
   "execution_count": 45,
   "metadata": {},
   "outputs": [],
   "source": [
    "from sklearn.linear_model import Lasso,Ridge,ElasticNet\n"
   ]
  },
  {
   "cell_type": "code",
   "execution_count": 46,
   "metadata": {},
   "outputs": [
    {
     "name": "stdout",
     "output_type": "stream",
     "text": [
      "0.7641089373063386\n",
      "0.001\n",
      "{'alpha': 0.001}\n",
      "\n",
      "\n",
      "0.7641244525799411\n",
      "0.1\n",
      "{'alpha': 0.1}\n",
      "\n",
      "\n",
      "0.7641197312732027\n",
      "0.001\n",
      "{'alpha': 0.001}\n",
      "\n",
      "\n"
     ]
    }
   ],
   "source": [
    "alphavalue={'alpha':[1,0.1,0.001,0.0001,0]}\n",
    "list=[Lasso(),Ridge(),ElasticNet()]\n",
    "for i in list:\n",
    "    grid=GridSearchCV(estimator=i,param_grid=alphavalue)\n",
    "    grid.fit(xd,y)\n",
    "    print(grid.best_score_)\n",
    "    print(grid.best_estimator_.alpha)\n",
    "    print(grid.best_params_)\n",
    "    print('\\n')"
   ]
  },
  {
   "cell_type": "code",
   "execution_count": 47,
   "metadata": {},
   "outputs": [
    {
     "name": "stdout",
     "output_type": "stream",
     "text": [
      "r2 score corresponding to  42 is 0.8410792136327446\n",
      "r2 score corresponding to  43 is 0.7042426654950114\n",
      "r2 score corresponding to  44 is 0.743108301202224\n",
      "r2 score corresponding to  45 is 0.71582948790858\n",
      "r2 score corresponding to  46 is 0.8034949887217001\n",
      "r2 score corresponding to  47 is 0.7792351003305774\n",
      "r2 score corresponding to  48 is 0.6639610725077435\n",
      "r2 score corresponding to  49 is 0.8653881443771052\n",
      "r2 score corresponding to  50 is 0.7955696334308416\n",
      "r2 score corresponding to  51 is 0.8163516815347825\n",
      "r2 score corresponding to  52 is 0.6416022701535182\n",
      "r2 score corresponding to  53 is 0.8420735573031648\n",
      "r2 score corresponding to  54 is 0.7481299368604257\n",
      "r2 score corresponding to  55 is 0.7391996231660095\n",
      "r2 score corresponding to  56 is 0.7067811110048238\n",
      "r2 score corresponding to  57 is 0.7848464352155924\n",
      "r2 score corresponding to  58 is 0.7418114259112032\n",
      "r2 score corresponding to  59 is 0.784338093113526\n",
      "r2 score corresponding to  60 is 0.7266828689419584\n",
      "r2 score corresponding to  61 is 0.7538621515756988\n",
      "r2 score corresponding to  62 is 0.8118633061649989\n",
      "r2 score corresponding to  63 is 0.590396794988939\n",
      "r2 score corresponding to  64 is 0.768670851236116\n",
      "r2 score corresponding to  65 is 0.6962949458850317\n",
      "r2 score corresponding to  66 is 0.7124660254638604\n",
      "r2 score corresponding to  67 is 0.7727757350219024\n",
      "r2 score corresponding to  68 is 0.7127621382912561\n",
      "r2 score corresponding to  69 is 0.8162650982279515\n",
      "r2 score corresponding to  70 is 0.7457080139085621\n",
      "r2 score corresponding to  71 is 0.8050561086696397\n",
      "r2 score corresponding to  72 is 0.6815876104770914\n",
      "r2 score corresponding to  73 is 0.7752142531266423\n",
      "r2 score corresponding to  74 is 0.7727361024010129\n",
      "r2 score corresponding to  75 is 0.7290328351496378\n",
      "r2 score corresponding to  76 is 0.7824882502733097\n",
      "r2 score corresponding to  77 is 0.7561183228126583\n",
      "r2 score corresponding to  78 is 0.7327950544885473\n",
      "r2 score corresponding to  79 is 0.827163865376969\n",
      "r2 score corresponding to  80 is 0.7971818656373671\n",
      "r2 score corresponding to  81 is 0.844142208874596\n",
      "r2 score corresponding to  82 is 0.7757347025558335\n",
      "r2 score corresponding to  83 is 0.7486703759645366\n",
      "r2 score corresponding to  84 is 0.8032768865348908\n",
      "r2 score corresponding to  85 is 0.7707037782007593\n",
      "r2 score corresponding to  86 is 0.8455462244182584\n",
      "r2 score corresponding to  87 is 0.6858643939763898\n",
      "r2 score corresponding to  88 is 0.7842758932840279\n",
      "r2 score corresponding to  89 is 0.8180800683482728\n",
      "r2 score corresponding to  90 is 0.7883407289404929\n",
      "r2 score corresponding to  91 is 0.7516336239363509\n",
      "r2 score corresponding to  92 is 0.7821440848325971\n",
      "r2 score corresponding to  93 is 0.7531456160315055\n",
      "r2 score corresponding to  94 is 0.863192818893653\n",
      "r2 score corresponding to  95 is 0.8125242127429612\n",
      "r2 score corresponding to  96 is 0.7322829164219551\n",
      "r2 score corresponding to  97 is 0.5987462822976752\n",
      "r2 score corresponding to  98 is 0.7969782144918275\n",
      "r2 score corresponding to  99 is 0.8953362481460125\n",
      "max r2 score corresponding to 99 is 0.8953362481460125\n"
     ]
    }
   ],
   "source": [
    "rd=Ridge(alpha=0.001)\n",
    "r_state=maxr2_score(rd,xd,y)"
   ]
  },
  {
   "cell_type": "code",
   "execution_count": 48,
   "metadata": {},
   "outputs": [
    {
     "name": "stdout",
     "output_type": "stream",
     "text": [
      "mean r2 score for RR 0.727870555005085\n",
      "Std dev. in r2 score for RR is 0.1227373437012139\n"
     ]
    }
   ],
   "source": [
    "print('mean r2 score for RR',cross_val_score(rd,xd,y,cv=10,scoring='r2').mean())\n",
    "print('Std dev. in r2 score for RR is',cross_val_score(rd,xd,y,cv=10,scoring='r2').std())"
   ]
  },
  {
   "cell_type": "code",
   "execution_count": 49,
   "metadata": {},
   "outputs": [
    {
     "data": {
      "text/plain": [
       "{'learning_rate': 0.01, 'n_estimators': 500}"
      ]
     },
     "execution_count": 49,
     "metadata": {},
     "output_type": "execute_result"
    }
   ],
   "source": [
    "from sklearn.ensemble import GradientBoostingRegressor\n",
    "gbr=GradientBoostingRegressor()\n",
    "parameters={'learning_rate':[0.001,0.01,0.1,1],'n_estimators':[10,500]}\n",
    "clf=GridSearchCV(gbr,parameters,cv=5)\n",
    "clf.fit(xd,y)\n",
    "clf.best_params_"
   ]
  },
  {
   "cell_type": "code",
   "execution_count": 50,
   "metadata": {},
   "outputs": [
    {
     "name": "stdout",
     "output_type": "stream",
     "text": [
      "mean r2 score for GBR is 0.675246962250001\n",
      "Std dev. in r2 score for GBR is 0.1710463268828338\n"
     ]
    }
   ],
   "source": [
    "gbr=GradientBoostingRegressor(learning_rate=0.01,n_estimators=500)\n",
    "print('mean r2 score for GBR is',cross_val_score(gbr,xd,y,cv=10,scoring='r2').mean())\n",
    "print('Std dev. in r2 score for GBR is',cross_val_score(gbr,xd,y,cv=10,scoring='r2').std())"
   ]
  },
  {
   "cell_type": "code",
   "execution_count": 51,
   "metadata": {},
   "outputs": [],
   "source": [
    "from sklearn.svm import SVR"
   ]
  },
  {
   "cell_type": "code",
   "execution_count": 52,
   "metadata": {},
   "outputs": [
    {
     "data": {
      "text/plain": [
       "{'C': 10, 'kernel': 'linear'}"
      ]
     },
     "execution_count": 52,
     "metadata": {},
     "output_type": "execute_result"
    }
   ],
   "source": [
    "svr=SVR()\n",
    "parameters={'kernel':['linear','poly','rbf'],'C':[1,10]}\n",
    "clf=GridSearchCV(svr,parameters,cv=5)\n",
    "clf.fit(xd,y)\n",
    "clf.best_params_\n"
   ]
  },
  {
   "cell_type": "code",
   "execution_count": 53,
   "metadata": {},
   "outputs": [
    {
     "name": "stdout",
     "output_type": "stream",
     "text": [
      "r2 score corresponding to  42 is 0.8410792136327446\n",
      "r2 score corresponding to  43 is 0.7042426654950114\n",
      "r2 score corresponding to  44 is 0.743108301202224\n",
      "r2 score corresponding to  45 is 0.71582948790858\n",
      "r2 score corresponding to  46 is 0.8034949887217001\n",
      "r2 score corresponding to  47 is 0.7792351003305774\n",
      "r2 score corresponding to  48 is 0.6639610725077435\n",
      "r2 score corresponding to  49 is 0.8653881443771052\n",
      "r2 score corresponding to  50 is 0.7955696334308416\n",
      "r2 score corresponding to  51 is 0.8163516815347825\n",
      "r2 score corresponding to  52 is 0.6416022701535182\n",
      "r2 score corresponding to  53 is 0.8420735573031648\n",
      "r2 score corresponding to  54 is 0.7481299368604257\n",
      "r2 score corresponding to  55 is 0.7391996231660095\n",
      "r2 score corresponding to  56 is 0.7067811110048238\n",
      "r2 score corresponding to  57 is 0.7848464352155924\n",
      "r2 score corresponding to  58 is 0.7418114259112032\n",
      "r2 score corresponding to  59 is 0.784338093113526\n",
      "r2 score corresponding to  60 is 0.7266828689419584\n",
      "r2 score corresponding to  61 is 0.7538621515756988\n",
      "r2 score corresponding to  62 is 0.8118633061649989\n",
      "r2 score corresponding to  63 is 0.590396794988939\n",
      "r2 score corresponding to  64 is 0.768670851236116\n",
      "r2 score corresponding to  65 is 0.6962949458850317\n",
      "r2 score corresponding to  66 is 0.7124660254638604\n",
      "r2 score corresponding to  67 is 0.7727757350219024\n",
      "r2 score corresponding to  68 is 0.7127621382912561\n",
      "r2 score corresponding to  69 is 0.8162650982279515\n",
      "r2 score corresponding to  70 is 0.7457080139085621\n",
      "r2 score corresponding to  71 is 0.8050561086696397\n",
      "r2 score corresponding to  72 is 0.6815876104770914\n",
      "r2 score corresponding to  73 is 0.7752142531266423\n",
      "r2 score corresponding to  74 is 0.7727361024010129\n",
      "r2 score corresponding to  75 is 0.7290328351496378\n",
      "r2 score corresponding to  76 is 0.7824882502733097\n",
      "r2 score corresponding to  77 is 0.7561183228126583\n",
      "r2 score corresponding to  78 is 0.7327950544885473\n",
      "r2 score corresponding to  79 is 0.827163865376969\n",
      "r2 score corresponding to  80 is 0.7971818656373671\n",
      "r2 score corresponding to  81 is 0.844142208874596\n",
      "r2 score corresponding to  82 is 0.7757347025558335\n",
      "r2 score corresponding to  83 is 0.7486703759645366\n",
      "r2 score corresponding to  84 is 0.8032768865348908\n",
      "r2 score corresponding to  85 is 0.7707037782007593\n",
      "r2 score corresponding to  86 is 0.8455462244182584\n",
      "r2 score corresponding to  87 is 0.6858643939763898\n",
      "r2 score corresponding to  88 is 0.7842758932840279\n",
      "r2 score corresponding to  89 is 0.8180800683482728\n",
      "r2 score corresponding to  90 is 0.7883407289404929\n",
      "r2 score corresponding to  91 is 0.7516336239363509\n",
      "r2 score corresponding to  92 is 0.7821440848325971\n",
      "r2 score corresponding to  93 is 0.7531456160315055\n",
      "r2 score corresponding to  94 is 0.863192818893653\n",
      "r2 score corresponding to  95 is 0.8125242127429612\n",
      "r2 score corresponding to  96 is 0.7322829164219551\n",
      "r2 score corresponding to  97 is 0.5987462822976752\n",
      "r2 score corresponding to  98 is 0.7969782144918275\n",
      "r2 score corresponding to  99 is 0.8953362481460125\n",
      "max r2 score corresponding to 99 is 0.8953362481460125\n"
     ]
    }
   ],
   "source": [
    "svr=SVR(kernel='linear',C=10)\n",
    "r_state=maxr2_score(rd,xd,y)"
   ]
  },
  {
   "cell_type": "code",
   "execution_count": 54,
   "metadata": {},
   "outputs": [
    {
     "name": "stdout",
     "output_type": "stream",
     "text": [
      "mean r2 score for SVR is 0.6444005542689542\n",
      "Std dev. in r2 score for SVR is 0.18247245321975025\n"
     ]
    }
   ],
   "source": [
    "svr=SVR(kernel='rbf',C=1)\n",
    "print('mean r2 score for SVR is',cross_val_score(svr,xd,y,cv=10,scoring='r2').mean())\n",
    "print('Std dev. in r2 score for SVR is',cross_val_score(svr,xd,y,cv=10,scoring='r2').std())"
   ]
  },
  {
   "cell_type": "code",
   "execution_count": 55,
   "metadata": {},
   "outputs": [],
   "source": [
    "from sklearn.ensemble import RandomForestRegressor\n"
   ]
  },
  {
   "cell_type": "code",
   "execution_count": 56,
   "metadata": {},
   "outputs": [
    {
     "data": {
      "text/plain": [
       "{'n_estimators': 500}"
      ]
     },
     "execution_count": 56,
     "metadata": {},
     "output_type": "execute_result"
    }
   ],
   "source": [
    "rfr=RandomForestRegressor()\n",
    "parameters={'n_estimators':[10,500]}\n",
    "clf=GridSearchCV(rfr,parameters,cv=5)\n",
    "clf.fit(xd,y)\n",
    "clf.best_params_"
   ]
  },
  {
   "cell_type": "code",
   "execution_count": 57,
   "metadata": {},
   "outputs": [
    {
     "name": "stdout",
     "output_type": "stream",
     "text": [
      "r2 score corresponding to  42 is 0.7985661700118927\n",
      "r2 score corresponding to  43 is 0.6043989746735134\n",
      "r2 score corresponding to  44 is 0.6809558241010509\n",
      "r2 score corresponding to  45 is 0.6868936018579166\n",
      "r2 score corresponding to  46 is 0.7869989345056445\n",
      "r2 score corresponding to  47 is 0.736604033729289\n",
      "r2 score corresponding to  48 is 0.5773324283499092\n",
      "r2 score corresponding to  49 is 0.7806965068503448\n",
      "r2 score corresponding to  50 is 0.7097723064888325\n",
      "r2 score corresponding to  51 is 0.7802843067318764\n",
      "r2 score corresponding to  52 is 0.441652687593428\n",
      "r2 score corresponding to  53 is 0.7906352846441067\n",
      "r2 score corresponding to  54 is 0.7244359979739372\n",
      "r2 score corresponding to  55 is 0.6210206716961102\n",
      "r2 score corresponding to  56 is 0.5836052762070266\n",
      "r2 score corresponding to  57 is 0.7298197775540008\n",
      "r2 score corresponding to  58 is 0.693205446230093\n",
      "r2 score corresponding to  59 is 0.7018479888685332\n",
      "r2 score corresponding to  60 is 0.700719746006709\n",
      "r2 score corresponding to  61 is 0.7485330582620212\n",
      "r2 score corresponding to  62 is 0.721753838235221\n",
      "r2 score corresponding to  63 is 0.44849899946573846\n",
      "r2 score corresponding to  64 is 0.7358342599423785\n",
      "r2 score corresponding to  65 is 0.6826145325915346\n",
      "r2 score corresponding to  66 is 0.6930026752726985\n",
      "r2 score corresponding to  67 is 0.6723006735629069\n",
      "r2 score corresponding to  68 is 0.6437328915398564\n",
      "r2 score corresponding to  69 is 0.7895327960361637\n",
      "r2 score corresponding to  70 is 0.711475527528842\n",
      "r2 score corresponding to  71 is 0.7699905086276747\n",
      "r2 score corresponding to  72 is 0.6141401619696802\n",
      "r2 score corresponding to  73 is 0.7050854150007555\n",
      "r2 score corresponding to  74 is 0.7175289664438161\n",
      "r2 score corresponding to  75 is 0.6626895782129485\n",
      "r2 score corresponding to  76 is 0.7487334298122763\n",
      "r2 score corresponding to  77 is 0.750858498465504\n",
      "r2 score corresponding to  78 is 0.7283646579403509\n",
      "r2 score corresponding to  79 is 0.770494052664911\n",
      "r2 score corresponding to  80 is 0.7492650306356998\n",
      "r2 score corresponding to  81 is 0.8006100949145238\n",
      "r2 score corresponding to  82 is 0.6953272087436151\n",
      "r2 score corresponding to  83 is 0.690639381578319\n",
      "r2 score corresponding to  84 is 0.7048713242771423\n",
      "r2 score corresponding to  85 is 0.7141982743379279\n",
      "r2 score corresponding to  86 is 0.7688767725132778\n",
      "r2 score corresponding to  87 is 0.5506580265949401\n",
      "r2 score corresponding to  88 is 0.763130835218484\n",
      "r2 score corresponding to  89 is 0.7683642897474858\n",
      "r2 score corresponding to  90 is 0.7937180110133849\n",
      "r2 score corresponding to  91 is 0.6507443716072483\n",
      "r2 score corresponding to  92 is 0.7903387585334087\n",
      "r2 score corresponding to  93 is 0.7032517476819325\n",
      "r2 score corresponding to  94 is 0.8201548782166836\n",
      "r2 score corresponding to  95 is 0.8071266750979658\n",
      "r2 score corresponding to  96 is 0.73098398338842\n",
      "r2 score corresponding to  97 is 0.5160473580592653\n",
      "r2 score corresponding to  98 is 0.7365217694095445\n",
      "r2 score corresponding to  99 is 0.8964953742976456\n",
      "max r2 score corresponding to 99 is 0.8964953742976456\n"
     ]
    }
   ],
   "source": [
    "rfr=RandomForestRegressor(n_estimators=500)\n",
    "r_state=maxr2_score(rfr,xd,y)"
   ]
  },
  {
   "cell_type": "code",
   "execution_count": 58,
   "metadata": {},
   "outputs": [
    {
     "name": "stdout",
     "output_type": "stream",
     "text": [
      "mean r2 score for SVR is 0.6765609291564919\n",
      "Std dev. in r2 score for SVR is 0.16449340500148937\n"
     ]
    }
   ],
   "source": [
    "rfr=RandomForestRegressor(n_estimators=500)\n",
    "print('mean r2 score for SVR is',cross_val_score(rfr,xd,y,cv=10,scoring='r2').mean())\n",
    "print('Std dev. in r2 score for SVR is',cross_val_score(rfr,xd,y,cv=10,scoring='r2').std())"
   ]
  },
  {
   "cell_type": "code",
   "execution_count": 59,
   "metadata": {},
   "outputs": [
    {
     "data": {
      "text/plain": [
       "{'base_estimator': Ridge(alpha=0.001, copy_X=True, fit_intercept=True, max_iter=None,\n",
       "       normalize=False, random_state=None, solver='auto', tol=0.001),\n",
       " 'learning_rate': 1,\n",
       " 'n_estimators': 500}"
      ]
     },
     "execution_count": 59,
     "metadata": {},
     "output_type": "execute_result"
    }
   ],
   "source": [
    "from sklearn.ensemble import AdaBoostRegressor\n",
    "adareg=AdaBoostRegressor()\n",
    "parameters={'learning_rate':[0.001,0.01,0.1,1],'n_estimators':[100,500],'base_estimator':[lreg,rd]}\n",
    "clf=GridSearchCV(adareg,parameters,cv=5)\n",
    "clf.fit(xd,y)\n",
    "clf.best_params_"
   ]
  },
  {
   "cell_type": "code",
   "execution_count": 60,
   "metadata": {},
   "outputs": [
    {
     "name": "stdout",
     "output_type": "stream",
     "text": [
      "r2 score corresponding to  42 is 0.8364161287720699\n",
      "r2 score corresponding to  43 is 0.6712678136670239\n",
      "r2 score corresponding to  44 is 0.7183921908416486\n",
      "r2 score corresponding to  45 is 0.7312196361423047\n",
      "r2 score corresponding to  46 is 0.7741735712690977\n",
      "r2 score corresponding to  47 is 0.7606483679612301\n",
      "r2 score corresponding to  48 is 0.6506433660274441\n",
      "r2 score corresponding to  49 is 0.85111343274215\n",
      "r2 score corresponding to  50 is 0.798721375591717\n",
      "r2 score corresponding to  51 is 0.8115538981947206\n",
      "r2 score corresponding to  52 is 0.6398252735965413\n",
      "r2 score corresponding to  53 is 0.8477095028510253\n",
      "r2 score corresponding to  54 is 0.7459670316313746\n",
      "r2 score corresponding to  55 is 0.7386294060151807\n",
      "r2 score corresponding to  56 is 0.7027043572472519\n",
      "r2 score corresponding to  57 is 0.7801738063140657\n",
      "r2 score corresponding to  58 is 0.7426339201612266\n",
      "r2 score corresponding to  59 is 0.7853793761291934\n",
      "r2 score corresponding to  60 is 0.7139863190282638\n",
      "r2 score corresponding to  61 is 0.7265429225083555\n",
      "r2 score corresponding to  62 is 0.8250095689442735\n",
      "r2 score corresponding to  63 is 0.5818218585879726\n",
      "r2 score corresponding to  64 is 0.765685419529497\n",
      "r2 score corresponding to  65 is 0.684980231419288\n",
      "r2 score corresponding to  66 is 0.7319833448140759\n",
      "r2 score corresponding to  67 is 0.7648326735572235\n",
      "r2 score corresponding to  68 is 0.7166152913779971\n",
      "r2 score corresponding to  69 is 0.8136338129040899\n",
      "r2 score corresponding to  70 is 0.7208298142332412\n",
      "r2 score corresponding to  71 is 0.7973903010677451\n",
      "r2 score corresponding to  72 is 0.6509625098944454\n",
      "r2 score corresponding to  73 is 0.7445672543686026\n",
      "r2 score corresponding to  74 is 0.7763729340188651\n",
      "r2 score corresponding to  75 is 0.7164062282802843\n",
      "r2 score corresponding to  76 is 0.7836487833051939\n",
      "r2 score corresponding to  77 is 0.752163529859237\n",
      "r2 score corresponding to  78 is 0.731346564859413\n",
      "r2 score corresponding to  79 is 0.8258528084553283\n",
      "r2 score corresponding to  80 is 0.7892966305224018\n",
      "r2 score corresponding to  81 is 0.8378542842197372\n",
      "r2 score corresponding to  82 is 0.7776014830877633\n",
      "r2 score corresponding to  83 is 0.7413762468047866\n",
      "r2 score corresponding to  84 is 0.7952750898771583\n",
      "r2 score corresponding to  85 is 0.781610640915319\n",
      "r2 score corresponding to  86 is 0.8316700574524911\n",
      "r2 score corresponding to  87 is 0.6565239541258159\n",
      "r2 score corresponding to  88 is 0.7791795620181183\n",
      "r2 score corresponding to  89 is 0.8086363118832971\n",
      "r2 score corresponding to  90 is 0.7629449041174057\n",
      "r2 score corresponding to  91 is 0.7233811565169849\n",
      "r2 score corresponding to  92 is 0.7320526699692591\n",
      "r2 score corresponding to  93 is 0.7504156336569626\n",
      "r2 score corresponding to  94 is 0.8599127065900514\n",
      "r2 score corresponding to  95 is 0.8225002697031214\n",
      "r2 score corresponding to  96 is 0.7456516158385833\n",
      "r2 score corresponding to  97 is 0.5991610947263728\n",
      "r2 score corresponding to  98 is 0.8071320379155137\n",
      "r2 score corresponding to  99 is 0.9003481928779739\n",
      "max r2 score corresponding to 99 is 0.9003481928779739\n"
     ]
    }
   ],
   "source": [
    "adareg=AdaBoostRegressor(learning_rate=1,n_estimators=100,base_estimator=rd)\n",
    "r_state=maxr2_score(adareg,xd,y)"
   ]
  },
  {
   "cell_type": "code",
   "execution_count": 61,
   "metadata": {},
   "outputs": [
    {
     "name": "stdout",
     "output_type": "stream",
     "text": [
      "mean r2 score for ABR is 0.7219326590376787\n",
      "Std dev. in r2 score for ABR is 0.1419076571181072\n"
     ]
    }
   ],
   "source": [
    "adareg=AdaBoostRegressor(learning_rate=1,n_estimators=100,base_estimator=rd)\n",
    "print('mean r2 score for ABR is',cross_val_score(adareg,xd,y,cv=10,scoring='r2').mean())\n",
    "print('Std dev. in r2 score for ABR is',cross_val_score(adareg,xd,y,cv=10,scoring='r2').std())"
   ]
  },
  {
   "cell_type": "code",
   "execution_count": 62,
   "metadata": {},
   "outputs": [],
   "source": [
    "#Ridge is selected of all the models"
   ]
  },
  {
   "cell_type": "code",
   "execution_count": 63,
   "metadata": {},
   "outputs": [],
   "source": [
    "xtrain,xtest,ytrain,ytest=train_test_split(xd,y,test_size=.22,random_state=99)\n",
    "rd=Ridge(alpha=0.001)\n",
    "rd.fit(xtrain,ytrain)\n",
    "ypred=rd.predict(xtest)"
   ]
  },
  {
   "cell_type": "code",
   "execution_count": 64,
   "metadata": {},
   "outputs": [
    {
     "name": "stdout",
     "output_type": "stream",
     "text": [
      "RMSE is 1.2094677160647271\n",
      "r2_score is 0.8953362481460125\n"
     ]
    }
   ],
   "source": [
    "print('RMSE is',np.sqrt(mean_squared_error(ytest,ypred)))\n",
    "print('r2_score is',r2_score(ytest,ypred))"
   ]
  },
  {
   "cell_type": "code",
   "execution_count": 65,
   "metadata": {},
   "outputs": [
    {
     "data": {
      "text/plain": [
       "array([ 9.72387836, 10.25737078, 11.16922561,  1.55125409,  9.67863908,\n",
       "        7.99801012, 10.03393301,  2.43490428,  7.27787615,  6.68969395,\n",
       "        4.91285742,  5.83789826,  9.53022834,  1.02052381,  4.28827495,\n",
       "        4.478552  ,  8.75476788,  1.95416427,  9.26795954, 11.42776781,\n",
       "        4.88121629,  4.81322121,  2.34134562,  1.76766476,  9.33204101,\n",
       "        4.47117326,  3.5235448 , 10.27833672,  9.15536048,  2.4551189 ,\n",
       "        8.63250844,  6.82281651,  1.90188644,  8.14642578,  6.54688953,\n",
       "       10.68716374,  6.04813864,  6.81100074,  7.18006373,  9.4010184 ])"
      ]
     },
     "execution_count": 65,
     "metadata": {},
     "output_type": "execute_result"
    }
   ],
   "source": [
    "from sklearn.externals import joblib\n",
    "joblib.dump(rd,'rdfile.obj')\n",
    "rd_from_joblib=joblib.load('rdfile.obj')\n",
    "rd_from_joblib.predict(xtest)"
   ]
  }
 ],
 "metadata": {
  "kernelspec": {
   "display_name": "Python 3",
   "language": "python",
   "name": "python3"
  },
  "language_info": {
   "codemirror_mode": {
    "name": "ipython",
    "version": 3
   },
   "file_extension": ".py",
   "mimetype": "text/x-python",
   "name": "python",
   "nbconvert_exporter": "python",
   "pygments_lexer": "ipython3",
   "version": "3.7.6"
  }
 },
 "nbformat": 4,
 "nbformat_minor": 4
}
